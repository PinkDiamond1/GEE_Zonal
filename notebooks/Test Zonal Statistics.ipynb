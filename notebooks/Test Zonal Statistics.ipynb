{
 "cells": [
  {
   "cell_type": "code",
   "execution_count": 1,
   "id": "falling-senegal",
   "metadata": {},
   "outputs": [],
   "source": [
    "import sys\n",
    "sys.path.append('../src')"
   ]
  },
  {
   "cell_type": "code",
   "execution_count": 2,
   "id": "threatened-relative",
   "metadata": {},
   "outputs": [],
   "source": [
    "from gee_tools import Catalog, ZonalStats\n",
    "import ee"
   ]
  },
  {
   "cell_type": "code",
   "execution_count": 3,
   "id": "sublime-copyright",
   "metadata": {},
   "outputs": [],
   "source": [
    "ee.Initialize()"
   ]
  },
  {
   "cell_type": "code",
   "execution_count": 4,
   "id": "structural-course",
   "metadata": {},
   "outputs": [],
   "source": [
    "AOIs = ee.FeatureCollection('users/afche18/Ethiopia_AOI')"
   ]
  },
  {
   "cell_type": "code",
   "execution_count": 8,
   "id": "skilled-angola",
   "metadata": {},
   "outputs": [],
   "source": [
    "zs = ZonalStats(\n",
    "    collection_id='LANDSAT/LC08/C01/T1_8DAY_NDVI', \n",
    "    target_features=AOIs, \n",
    "    statistic_type=\"mean\",\n",
    "    freq=\"annual\"\n",
    "    output_name=\"pretty_output_all\"\n",
    ")"
   ]
  },
  {
   "cell_type": "code",
   "execution_count": 9,
   "id": "thousand-counter",
   "metadata": {},
   "outputs": [],
   "source": [
    "zs?"
   ]
  },
  {
   "cell_type": "code",
   "execution_count": 7,
   "id": "proper-woman",
   "metadata": {},
   "outputs": [],
   "source": [
    "zs.runZonalStats()"
   ]
  },
  {
   "cell_type": "code",
   "execution_count": 8,
   "id": "rotary-laser",
   "metadata": {},
   "outputs": [
    {
     "data": {
      "text/plain": [
       "{'state': 'READY',\n",
       " 'description': 'Zonal statistics all of T1_8DAY_NDVI',\n",
       " 'creation_timestamp_ms': 1617069972608,\n",
       " 'update_timestamp_ms': 1617069972608,\n",
       " 'start_timestamp_ms': 0,\n",
       " 'task_type': 'EXPORT_FEATURES',\n",
       " 'id': 'CEF66YDPMZTDYBNUXRRRGDER',\n",
       " 'name': 'projects/earthengine-legacy/operations/CEF66YDPMZTDYBNUXRRRGDER'}"
      ]
     },
     "execution_count": 8,
     "metadata": {},
     "output_type": "execute_result"
    }
   ],
   "source": [
    "zs.task.status()"
   ]
  },
  {
   "cell_type": "code",
   "execution_count": 12,
   "id": "distant-genesis",
   "metadata": {},
   "outputs": [
    {
     "data": {
      "text/plain": [
       "{'state': 'RUNNING',\n",
       " 'description': 'Zonal statistics all of T1_8DAY_NDVI',\n",
       " 'creation_timestamp_ms': 1617069972608,\n",
       " 'update_timestamp_ms': 1617069987923,\n",
       " 'start_timestamp_ms': 1617069987780,\n",
       " 'task_type': 'EXPORT_FEATURES',\n",
       " 'attempt': 1,\n",
       " 'id': 'CEF66YDPMZTDYBNUXRRRGDER',\n",
       " 'name': 'projects/earthengine-legacy/operations/CEF66YDPMZTDYBNUXRRRGDER'}"
      ]
     },
     "execution_count": 12,
     "metadata": {},
     "output_type": "execute_result"
    }
   ],
   "source": [
    "zs.task.status()"
   ]
  },
  {
   "cell_type": "code",
   "execution_count": 13,
   "id": "limiting-mailing",
   "metadata": {},
   "outputs": [
    {
     "data": {
      "text/plain": [
       "'COMPLETED'"
      ]
     },
     "execution_count": 13,
     "metadata": {},
     "output_type": "execute_result"
    }
   ],
   "source": [
    "zs.task.status()['state']"
   ]
  }
 ],
 "metadata": {
  "kernelspec": {
   "display_name": "Earth Engine",
   "language": "python",
   "name": "ee"
  },
  "language_info": {
   "codemirror_mode": {
    "name": "ipython",
    "version": 3
   },
   "file_extension": ".py",
   "mimetype": "text/x-python",
   "name": "python",
   "nbconvert_exporter": "python",
   "pygments_lexer": "ipython3",
   "version": "3.8.8"
  },
  "toc": {
   "base_numbering": 1,
   "nav_menu": {},
   "number_sections": true,
   "sideBar": true,
   "skip_h1_title": false,
   "title_cell": "Table of Contents",
   "title_sidebar": "Contents",
   "toc_cell": false,
   "toc_position": {},
   "toc_section_display": true,
   "toc_window_display": false
  },
  "varInspector": {
   "cols": {
    "lenName": 16,
    "lenType": 16,
    "lenVar": 40
   },
   "kernels_config": {
    "python": {
     "delete_cmd_postfix": "",
     "delete_cmd_prefix": "del ",
     "library": "var_list.py",
     "varRefreshCmd": "print(var_dic_list())"
    },
    "r": {
     "delete_cmd_postfix": ") ",
     "delete_cmd_prefix": "rm(",
     "library": "var_list.r",
     "varRefreshCmd": "cat(var_dic_list()) "
    }
   },
   "types_to_exclude": [
    "module",
    "function",
    "builtin_function_or_method",
    "instance",
    "_Feature"
   ],
   "window_display": false
  }
 },
 "nbformat": 4,
 "nbformat_minor": 5
}
