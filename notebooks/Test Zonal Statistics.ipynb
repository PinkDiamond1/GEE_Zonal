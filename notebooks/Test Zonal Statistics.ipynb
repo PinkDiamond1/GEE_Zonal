{
 "cells": [
  {
   "cell_type": "code",
   "execution_count": 1,
   "id": "falling-senegal",
   "metadata": {},
   "outputs": [],
   "source": [
    "import sys\n",
    "sys.path.append('../src')"
   ]
  },
  {
   "cell_type": "code",
   "execution_count": 2,
   "id": "threatened-relative",
   "metadata": {},
   "outputs": [],
   "source": [
    "from gee_tools import Catalog, ZonalStats\n",
    "import ee"
   ]
  },
  {
   "cell_type": "code",
   "execution_count": 3,
   "id": "sublime-copyright",
   "metadata": {},
   "outputs": [],
   "source": [
    "ee.Initialize()"
   ]
  },
  {
   "cell_type": "code",
   "execution_count": 4,
   "id": "structural-course",
   "metadata": {},
   "outputs": [],
   "source": [
    "AOIs = ee.FeatureCollection('users/afche18/Ethiopia_AOI')"
   ]
  },
  {
   "cell_type": "code",
   "execution_count": 5,
   "id": "skilled-angola",
   "metadata": {},
   "outputs": [],
   "source": [
    "zs = ZonalStats('LANDSAT/LC08/C01/T1_8DAY_NDVI', AOIs, \"mean\", \"pretty_output\")"
   ]
  },
  {
   "cell_type": "code",
   "execution_count": 8,
   "id": "thousand-counter",
   "metadata": {},
   "outputs": [
    {
     "data": {
      "text/plain": [
       "\u001b[1;31mType:\u001b[0m        ZonalStats\n",
       "\u001b[1;31mString form:\u001b[0m <gee_tools.ZonalStats object at 0x00000268B40BEA00>\n",
       "\u001b[1;31mFile:\u001b[0m        c:\\users\\wb514197\\repos\\gee_zonal\\src\\gee_tools.py\n",
       "\u001b[1;31mDocstring:\u001b[0m  \n",
       "Object to calculate zonal and temporal statistics from Earth Engine datasets (ee.ImageCollections) over vector shapes (ee.FeatureCollections)\n",
       ":param collection_id: ID for Earth Engine dataset\n",
       ":type collection_id: str\n",
       ":param target_features: vector features\n",
       ":type target_features: ee.FeatureCollection (for now)\n",
       ":param statistic_type: statistic to calculate by zone\n",
       ":type statistic_type: str (one of mean, max, median, min, sum, std, var)\n",
       ":param output_name: file name for output statistics\n",
       ":type output_name: str\n",
       ":param freq: Optional, temporal frequency for aggregation\n",
       ":type freq: str (monthly or annual, defaults to monthly)\n",
       ":param temporal_stat: Optional, statistic for temporal aggregation\n",
       ":type temporal_stat: str (mean, max, median, min, or sum, defaults to mean)\n",
       ":param band: Optional, specify name of image band to use\n",
       ":type band: str\n",
       ":param output_dir: Optional, google drive directory to save outputs\n",
       ":type output_dir: str (defaults to gdrive_folder)\n"
      ]
     },
     "metadata": {},
     "output_type": "display_data"
    }
   ],
   "source": [
    "zs?"
   ]
  },
  {
   "cell_type": "code",
   "execution_count": 9,
   "id": "proper-woman",
   "metadata": {},
   "outputs": [],
   "source": [
    "zs.runZonalStats()"
   ]
  },
  {
   "cell_type": "code",
   "execution_count": 10,
   "id": "rotary-laser",
   "metadata": {},
   "outputs": [
    {
     "data": {
      "text/plain": [
       "{'state': 'READY',\n",
       " 'description': 'Some Description Here',\n",
       " 'creation_timestamp_ms': 1615315034719,\n",
       " 'update_timestamp_ms': 1615315034719,\n",
       " 'start_timestamp_ms': 0,\n",
       " 'task_type': 'EXPORT_FEATURES',\n",
       " 'id': 'KK7EN44RK2DIWYDP2NVUMCID',\n",
       " 'name': 'projects/earthengine-legacy/operations/KK7EN44RK2DIWYDP2NVUMCID'}"
      ]
     },
     "execution_count": 10,
     "metadata": {},
     "output_type": "execute_result"
    }
   ],
   "source": [
    "zs.task.status()"
   ]
  },
  {
   "cell_type": "code",
   "execution_count": 11,
   "id": "distant-genesis",
   "metadata": {},
   "outputs": [
    {
     "data": {
      "text/plain": [
       "{'state': 'RUNNING',\n",
       " 'description': 'Some Description Here',\n",
       " 'creation_timestamp_ms': 1615315034719,\n",
       " 'update_timestamp_ms': 1615315049864,\n",
       " 'start_timestamp_ms': 1615315049727,\n",
       " 'task_type': 'EXPORT_FEATURES',\n",
       " 'attempt': 1,\n",
       " 'id': 'KK7EN44RK2DIWYDP2NVUMCID',\n",
       " 'name': 'projects/earthengine-legacy/operations/KK7EN44RK2DIWYDP2NVUMCID'}"
      ]
     },
     "execution_count": 11,
     "metadata": {},
     "output_type": "execute_result"
    }
   ],
   "source": [
    "zs.task.status()"
   ]
  },
  {
   "cell_type": "code",
   "execution_count": 16,
   "id": "limiting-mailing",
   "metadata": {},
   "outputs": [
    {
     "data": {
      "text/plain": [
       "'COMPLETED'"
      ]
     },
     "execution_count": 16,
     "metadata": {},
     "output_type": "execute_result"
    }
   ],
   "source": [
    "zs.task.status()['state']"
   ]
  }
 ],
 "metadata": {
  "kernelspec": {
   "display_name": "Earth Engine",
   "language": "python",
   "name": "ee"
  },
  "language_info": {
   "codemirror_mode": {
    "name": "ipython",
    "version": 3
   },
   "file_extension": ".py",
   "mimetype": "text/x-python",
   "name": "python",
   "nbconvert_exporter": "python",
   "pygments_lexer": "ipython3",
   "version": "3.8.8"
  }
 },
 "nbformat": 4,
 "nbformat_minor": 5
}
