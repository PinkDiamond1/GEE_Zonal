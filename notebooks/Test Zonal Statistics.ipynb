{
 "cells": [
  {
   "cell_type": "code",
   "execution_count": 1,
   "id": "falling-senegal",
   "metadata": {},
   "outputs": [],
   "source": [
    "import sys\n",
    "sys.path.append('../src')"
   ]
  },
  {
   "cell_type": "code",
   "execution_count": 2,
   "id": "threatened-relative",
   "metadata": {},
   "outputs": [],
   "source": [
    "from gee_tools import Catalog, ZonalStats\n",
    "import ee"
   ]
  },
  {
   "cell_type": "code",
   "execution_count": 3,
   "id": "sublime-copyright",
   "metadata": {},
   "outputs": [],
   "source": [
    "ee.Initialize()"
   ]
  },
  {
   "cell_type": "markdown",
   "id": "blank-breakdown",
   "metadata": {},
   "source": [
    "A shapefile can be called directly from GEE assets, or easily converted using gee_helpers.gpd_to_gee or the geemap package. (see other examples)"
   ]
  },
  {
   "cell_type": "code",
   "execution_count": 4,
   "id": "structural-course",
   "metadata": {},
   "outputs": [],
   "source": [
    "AOIs = ee.FeatureCollection('users/afche18/Ethiopia_AOI')"
   ]
  },
  {
   "cell_type": "markdown",
   "id": "ecological-oxford",
   "metadata": {},
   "source": [
    "### Option A: Retrieve Zonal Stats directly   \n",
    "Output: ee.FeatureCollection with results / dictionary  \n",
    "(recommended for small areas / low n)"
   ]
  },
  {
   "cell_type": "code",
   "execution_count": 5,
   "id": "skilled-angola",
   "metadata": {},
   "outputs": [],
   "source": [
    "zs = ZonalStats(\n",
    "    collection_id='LANDSAT/LC08/C01/T1_8DAY_NDVI', \n",
    "    target_features=AOIs, \n",
    "    statistic_type=\"mean\",\n",
    "    frequency=\"annual\",\n",
    "    temporal_stat=\"mean\"\n",
    ")"
   ]
  },
  {
   "cell_type": "code",
   "execution_count": 6,
   "id": "thousand-counter",
   "metadata": {},
   "outputs": [],
   "source": [
    "zs?"
   ]
  },
  {
   "cell_type": "code",
   "execution_count": 7,
   "id": "proper-woman",
   "metadata": {},
   "outputs": [],
   "source": [
    "res = zs.runZonalStats()"
   ]
  },
  {
   "cell_type": "code",
   "execution_count": 8,
   "id": "postal-asbestos",
   "metadata": {},
   "outputs": [
    {
     "data": {
      "text/plain": [
       "<ee.featurecollection.FeatureCollection at 0x16a3d6e3640>"
      ]
     },
     "execution_count": 8,
     "metadata": {},
     "output_type": "execute_result"
    }
   ],
   "source": [
    "res"
   ]
  },
  {
   "cell_type": "code",
   "execution_count": 9,
   "id": "precious-medicine",
   "metadata": {
    "scrolled": true
   },
   "outputs": [
    {
     "data": {
      "text/plain": [
       "{'type': 'FeatureCollection',\n",
       " 'columns': {'2013_NDVI_mean': 'Float<-1.0, 1.0>',\n",
       "  '2014_NDVI_mean': 'Float<-1.0, 1.0>',\n",
       "  '2015_NDVI_mean': 'Float<-1.0, 1.0>',\n",
       "  '2016_NDVI_mean': 'Float<-1.0, 1.0>',\n",
       "  '2017_NDVI_mean': 'Float<-1.0, 1.0>',\n",
       "  '2018_NDVI_mean': 'Float<-1.0, 1.0>',\n",
       "  '2019_NDVI_mean': 'Float<-1.0, 1.0>',\n",
       "  '2020_NDVI_mean': 'Float<-1.0, 1.0>',\n",
       "  '2021_NDVI_mean': 'Float<-1.0, 1.0>',\n",
       "  '2022_NDVI_mean': 'Float<-1.0, 1.0>',\n",
       "  'Area': 'Float',\n",
       "  'Id': 'Integer',\n",
       "  'system:index': 'String'},\n",
       " 'features': [{'type': 'Feature',\n",
       "   'geometry': {'type': 'Polygon',\n",
       "    'coordinates': [[[42.06158510035763, 9.397823252053993],\n",
       "      [42.06119314725495, 9.20601121183654],\n",
       "      [42.18901118834056, 9.20584119448768],\n",
       "      [42.316813505733144, 9.205625705724506],\n",
       "      [42.3125304107434, 9.301530485292622],\n",
       "      [42.30825425836041, 9.397435608019856],\n",
       "      [42.184926941544006, 9.39765098188209],\n",
       "      [42.06158510035763, 9.397823252053993]]]},\n",
       "   'id': '00000000000000000000',\n",
       "   'properties': {'2013_NDVI_mean': 0.3083953758511819,\n",
       "    '2014_NDVI_mean': 0.32825500371173727,\n",
       "    '2015_NDVI_mean': 0.3258121592323478,\n",
       "    '2016_NDVI_mean': 0.29973615730225617,\n",
       "    '2017_NDVI_mean': 0.25065086325581926,\n",
       "    '2018_NDVI_mean': 0.26945053915287426,\n",
       "    '2019_NDVI_mean': 0.2711908468247873,\n",
       "    '2020_NDVI_mean': 0.30643627213128277,\n",
       "    '2021_NDVI_mean': 0.29202725514971034,\n",
       "    '2022_NDVI_mean': None,\n",
       "    'Area': 586.656,\n",
       "    'Id': 0}},\n",
       "  {'type': 'Feature',\n",
       "   'geometry': {'type': 'Polygon',\n",
       "    'coordinates': [[[35.164007676333824, 7.315648092803201],\n",
       "      [35.164482803968816, 7.270435726027228],\n",
       "      [35.25634053363444, 7.210965732212082],\n",
       "      [35.348179623989004, 7.151464739986416],\n",
       "      [35.50236858461292, 7.092454680579472],\n",
       "      [35.51569123843248, 7.11196715143379],\n",
       "      [35.461916853024185, 7.22665425180959],\n",
       "      [35.41052043644675, 7.307558148286968],\n",
       "      [35.23872404563077, 7.330402310785946],\n",
       "      [35.164007676333824, 7.315648092803201]]]},\n",
       "   'id': '00000000000000000001',\n",
       "   'properties': {'2013_NDVI_mean': 0.5612203867849631,\n",
       "    '2014_NDVI_mean': 0.44903851480072166,\n",
       "    '2015_NDVI_mean': 0.49107568727900786,\n",
       "    '2016_NDVI_mean': 0.5080284976268331,\n",
       "    '2017_NDVI_mean': 0.4137008672847836,\n",
       "    '2018_NDVI_mean': 0.47764590402744633,\n",
       "    '2019_NDVI_mean': 0.5037147020571672,\n",
       "    '2020_NDVI_mean': 0.4418690106547339,\n",
       "    '2021_NDVI_mean': 0.47877786354819746,\n",
       "    '2022_NDVI_mean': None,\n",
       "    'Area': 523.326,\n",
       "    'Id': 1}}]}"
      ]
     },
     "execution_count": 9,
     "metadata": {},
     "output_type": "execute_result"
    }
   ],
   "source": [
    "res.getInfo()"
   ]
  },
  {
   "cell_type": "markdown",
   "id": "sought-forwarding",
   "metadata": {},
   "source": [
    "Convert results to data frame"
   ]
  },
  {
   "cell_type": "code",
   "execution_count": 10,
   "id": "american-running",
   "metadata": {},
   "outputs": [],
   "source": [
    "import pandas as pd"
   ]
  },
  {
   "cell_type": "code",
   "execution_count": 11,
   "id": "infinite-rwanda",
   "metadata": {},
   "outputs": [],
   "source": [
    "res = res.getInfo()\n",
    "feats = res['features']\n",
    "cols = [list(f['properties'].keys()) for f in feats][0]\n",
    "ids = [f['id'] for f in feats]\n",
    "keys = [list(f['properties'].keys()) for f in feats]\n",
    "values = [list(f['properties'].values()) for f in feats]\n",
    "df = pd.DataFrame(index=ids, columns=cols, data=values)"
   ]
  },
  {
   "cell_type": "code",
   "execution_count": 12,
   "id": "black-myanmar",
   "metadata": {},
   "outputs": [
    {
     "data": {
      "text/html": [
       "<div>\n",
       "<style scoped>\n",
       "    .dataframe tbody tr th:only-of-type {\n",
       "        vertical-align: middle;\n",
       "    }\n",
       "\n",
       "    .dataframe tbody tr th {\n",
       "        vertical-align: top;\n",
       "    }\n",
       "\n",
       "    .dataframe thead th {\n",
       "        text-align: right;\n",
       "    }\n",
       "</style>\n",
       "<table border=\"1\" class=\"dataframe\">\n",
       "  <thead>\n",
       "    <tr style=\"text-align: right;\">\n",
       "      <th></th>\n",
       "      <th>2013_NDVI_mean</th>\n",
       "      <th>2014_NDVI_mean</th>\n",
       "      <th>2015_NDVI_mean</th>\n",
       "      <th>2016_NDVI_mean</th>\n",
       "      <th>2017_NDVI_mean</th>\n",
       "      <th>2018_NDVI_mean</th>\n",
       "      <th>2019_NDVI_mean</th>\n",
       "      <th>2020_NDVI_mean</th>\n",
       "      <th>2021_NDVI_mean</th>\n",
       "      <th>2022_NDVI_mean</th>\n",
       "      <th>Area</th>\n",
       "      <th>Id</th>\n",
       "    </tr>\n",
       "  </thead>\n",
       "  <tbody>\n",
       "    <tr>\n",
       "      <th>00000000000000000000</th>\n",
       "      <td>0.308395</td>\n",
       "      <td>0.328255</td>\n",
       "      <td>0.325812</td>\n",
       "      <td>0.299736</td>\n",
       "      <td>0.250651</td>\n",
       "      <td>0.269451</td>\n",
       "      <td>0.271191</td>\n",
       "      <td>0.306436</td>\n",
       "      <td>0.292027</td>\n",
       "      <td>None</td>\n",
       "      <td>586.656</td>\n",
       "      <td>0</td>\n",
       "    </tr>\n",
       "    <tr>\n",
       "      <th>00000000000000000001</th>\n",
       "      <td>0.561220</td>\n",
       "      <td>0.449039</td>\n",
       "      <td>0.491076</td>\n",
       "      <td>0.508028</td>\n",
       "      <td>0.413701</td>\n",
       "      <td>0.477646</td>\n",
       "      <td>0.503715</td>\n",
       "      <td>0.441869</td>\n",
       "      <td>0.478778</td>\n",
       "      <td>None</td>\n",
       "      <td>523.326</td>\n",
       "      <td>1</td>\n",
       "    </tr>\n",
       "  </tbody>\n",
       "</table>\n",
       "</div>"
      ],
      "text/plain": [
       "                      2013_NDVI_mean  2014_NDVI_mean  2015_NDVI_mean  \\\n",
       "00000000000000000000        0.308395        0.328255        0.325812   \n",
       "00000000000000000001        0.561220        0.449039        0.491076   \n",
       "\n",
       "                      2016_NDVI_mean  2017_NDVI_mean  2018_NDVI_mean  \\\n",
       "00000000000000000000        0.299736        0.250651        0.269451   \n",
       "00000000000000000001        0.508028        0.413701        0.477646   \n",
       "\n",
       "                      2019_NDVI_mean  2020_NDVI_mean  2021_NDVI_mean  \\\n",
       "00000000000000000000        0.271191        0.306436        0.292027   \n",
       "00000000000000000001        0.503715        0.441869        0.478778   \n",
       "\n",
       "                     2022_NDVI_mean     Area  Id  \n",
       "00000000000000000000           None  586.656   0  \n",
       "00000000000000000001           None  523.326   1  "
      ]
     },
     "execution_count": 12,
     "metadata": {},
     "output_type": "execute_result"
    }
   ],
   "source": [
    "df.head()"
   ]
  },
  {
   "cell_type": "markdown",
   "id": "mounted-voice",
   "metadata": {},
   "source": [
    "### Option B: Submit a task  \n",
    "Output: csv table on Google Drive   \n",
    "(recommended for big areas / high n)"
   ]
  },
  {
   "cell_type": "code",
   "execution_count": 13,
   "id": "simplified-billy",
   "metadata": {},
   "outputs": [],
   "source": [
    "zs = ZonalStats(\n",
    "    collection_id='LANDSAT/LC08/C01/T1_8DAY_NDVI', \n",
    "    target_features=AOIs, \n",
    "    statistic_type=\"mean\",\n",
    "    frequency=\"annual\",\n",
    "    temporal_stat=\"mean\",\n",
    "    output_dir=\"pretty_folder\",\n",
    "    output_name=\"pretty_file\"\n",
    ")"
   ]
  },
  {
   "cell_type": "code",
   "execution_count": 14,
   "id": "fallen-discretion",
   "metadata": {},
   "outputs": [],
   "source": [
    "zs.runZonalStats()"
   ]
  },
  {
   "cell_type": "code",
   "execution_count": 15,
   "id": "distant-genesis",
   "metadata": {},
   "outputs": [
    {
     "data": {
      "text/plain": [
       "{'state': 'READY',\n",
       " 'description': 'Zonal statistics for T1_8DAY_NDVI',\n",
       " 'creation_timestamp_ms': 1644437897978,\n",
       " 'update_timestamp_ms': 1644437897978,\n",
       " 'start_timestamp_ms': 0,\n",
       " 'task_type': 'EXPORT_FEATURES',\n",
       " 'id': 'OHEUNNUDAX4GKQUUPI5YI2WM',\n",
       " 'name': 'projects/earthengine-legacy/operations/OHEUNNUDAX4GKQUUPI5YI2WM'}"
      ]
     },
     "execution_count": 15,
     "metadata": {},
     "output_type": "execute_result"
    }
   ],
   "source": [
    "zs.task.status()"
   ]
  },
  {
   "cell_type": "code",
   "execution_count": 17,
   "id": "limiting-mailing",
   "metadata": {},
   "outputs": [
    {
     "data": {
      "text/plain": [
       "{'state': 'COMPLETED',\n",
       " 'description': 'Zonal statistics for T1_8DAY_NDVI',\n",
       " 'creation_timestamp_ms': 1644437897978,\n",
       " 'update_timestamp_ms': 1644437978321,\n",
       " 'start_timestamp_ms': 1644437975749,\n",
       " 'task_type': 'EXPORT_FEATURES',\n",
       " 'destination_uris': ['https://drive.google.com/#folders/1csp0ZlY2eTPA2jgII2LoS3p1BQMFGlO5'],\n",
       " 'attempt': 1,\n",
       " 'id': 'OHEUNNUDAX4GKQUUPI5YI2WM',\n",
       " 'name': 'projects/earthengine-legacy/operations/OHEUNNUDAX4GKQUUPI5YI2WM'}"
      ]
     },
     "execution_count": 17,
     "metadata": {},
     "output_type": "execute_result"
    }
   ],
   "source": [
    "zs.task.status()"
   ]
  },
  {
   "cell_type": "code",
   "execution_count": 18,
   "id": "amber-financing",
   "metadata": {},
   "outputs": [
    {
     "name": "stdout",
     "output_type": "stream",
     "text": [
      "Completed\n",
      "Runtime: 0 minutes and 2 seconds\n"
     ]
    }
   ],
   "source": [
    "zs.reportRunTime()"
   ]
  }
 ],
 "metadata": {
  "kernelspec": {
   "display_name": "Earth Engine",
   "language": "python",
   "name": "ee"
  },
  "language_info": {
   "codemirror_mode": {
    "name": "ipython",
    "version": 3
   },
   "file_extension": ".py",
   "mimetype": "text/x-python",
   "name": "python",
   "nbconvert_exporter": "python",
   "pygments_lexer": "ipython3",
   "version": "3.8.8"
  },
  "toc": {
   "base_numbering": 1,
   "nav_menu": {},
   "number_sections": true,
   "sideBar": true,
   "skip_h1_title": false,
   "title_cell": "Table of Contents",
   "title_sidebar": "Contents",
   "toc_cell": false,
   "toc_position": {},
   "toc_section_display": true,
   "toc_window_display": false
  },
  "varInspector": {
   "cols": {
    "lenName": 16,
    "lenType": 16,
    "lenVar": 40
   },
   "kernels_config": {
    "python": {
     "delete_cmd_postfix": "",
     "delete_cmd_prefix": "del ",
     "library": "var_list.py",
     "varRefreshCmd": "print(var_dic_list())"
    },
    "r": {
     "delete_cmd_postfix": ") ",
     "delete_cmd_prefix": "rm(",
     "library": "var_list.r",
     "varRefreshCmd": "cat(var_dic_list()) "
    }
   },
   "types_to_exclude": [
    "module",
    "function",
    "builtin_function_or_method",
    "instance",
    "_Feature"
   ],
   "window_display": false
  }
 },
 "nbformat": 4,
 "nbformat_minor": 5
}
