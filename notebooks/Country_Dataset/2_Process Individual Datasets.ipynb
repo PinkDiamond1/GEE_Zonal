{
 "cells": [
  {
   "cell_type": "markdown",
   "id": "every-hello",
   "metadata": {},
   "source": [
    "This second notebook takes in each output from the zonal stats tasks, and reshapes each dataset into long format."
   ]
  },
  {
   "cell_type": "code",
   "execution_count": 1,
   "id": "falling-senegal",
   "metadata": {},
   "outputs": [],
   "source": [
    "import sys\n",
    "sys.path.append('../../src') # relative path where the library is stored\n",
    "# alternatively sys.path.append('C/Users/wb514197/Repos/GEE_Zonal/src')"
   ]
  },
  {
   "cell_type": "code",
   "execution_count": 2,
   "id": "congressional-heather",
   "metadata": {},
   "outputs": [],
   "source": [
    "import pandas as pd\n",
    "import os\n",
    "import glob"
   ]
  },
  {
   "cell_type": "code",
   "execution_count": 3,
   "id": "excited-bridges",
   "metadata": {},
   "outputs": [],
   "source": [
    "def process_file(file_path):\n",
    "    \n",
    "    df = pd.read_csv(file_path, index_col=0)\n",
    "    df.reset_index(drop=True, inplace=True)\n",
    "    df.drop(columns=\".geo\", inplace=True)\n",
    "    df.loc[:, \"n_null\"] = df.apply(lambda x: x.isna().sum(), axis=1)\n",
    "    \n",
    "    file = os.path.basename(file_path)\n",
    "    lc_id, var, temp_stat = file.replace(\".csv\", \"\").split(\"_\")\n",
    "    var_name = var.upper()\n",
    "    var = \"_\".join([var, temp_stat])\n",
    "    stubs = [\"_\".join([var, a]) for a in temp_stats]\n",
    "    \n",
    "    def rename_func(col):\n",
    "        if var_name in col:\n",
    "            p = col.split(\"_\")\n",
    "            new_name = p[1]+\"_\"+p[2]+\"_\"+p[3]+\"__\"+p[0]\n",
    "            return new_name\n",
    "        else:\n",
    "            return col\n",
    "    \n",
    "    df.rename(rename_func, axis=1, inplace=True)\n",
    "    df.rename(str.lower, axis=1, inplace=True)\n",
    "    \n",
    "    df_re = pd.wide_to_long(\n",
    "        df,\n",
    "        stubnames = stubs,\n",
    "        i = 'wb_adm0_na',\n",
    "        j = 'year',\n",
    "        sep = \"__\"\n",
    "    )\n",
    "    \n",
    "    return df_re"
   ]
  },
  {
   "cell_type": "code",
   "execution_count": 4,
   "id": "cordless-terrain",
   "metadata": {},
   "outputs": [],
   "source": [
    "def process_collection(lc_id, files_dir):\n",
    "    files = glob.glob(files_dir+f\"/{lc_id}*\")\n",
    "    l_processed = [process_file(file) for file in files]\n",
    "    l_all = pd.concat(l_processed, axis=1)\n",
    "    l_all = l_all.loc[:, ~l_all.columns.duplicated()].copy()\n",
    "    l_all.loc[:, \"landsat_id\"] = lc_id\n",
    "    return l_all"
   ]
  },
  {
   "cell_type": "markdown",
   "id": "framed-trigger",
   "metadata": {},
   "source": [
    "## NDVI"
   ]
  },
  {
   "cell_type": "code",
   "execution_count": 8,
   "id": "ancient-clark",
   "metadata": {},
   "outputs": [],
   "source": [
    "temp_stats = [\"mean\", \"max\", \"min\", \"stddev\"]"
   ]
  },
  {
   "cell_type": "code",
   "execution_count": 9,
   "id": "stock-payday",
   "metadata": {},
   "outputs": [],
   "source": [
    "data_dir = os.path.join(\"X:/data/ee\")\n",
    "ndvi_dir = os.path.join(data_dir, \"ndvi\")"
   ]
  },
  {
   "cell_type": "code",
   "execution_count": 10,
   "id": "early-google",
   "metadata": {},
   "outputs": [],
   "source": [
    "lc_ids = [\"LT05\",\"LE07\",\"LC08\"]\n",
    "# lc_ids = [\"LE07\",\"LC08\"]"
   ]
  },
  {
   "cell_type": "code",
   "execution_count": 11,
   "id": "starting-welcome",
   "metadata": {},
   "outputs": [],
   "source": [
    "res = [process_collection(lc_id, ndvi_dir) for lc_id in lc_ids]"
   ]
  },
  {
   "cell_type": "code",
   "execution_count": 12,
   "id": "complicated-headquarters",
   "metadata": {},
   "outputs": [],
   "source": [
    "ndvi = pd.concat(res, axis=0)"
   ]
  },
  {
   "cell_type": "code",
   "execution_count": 13,
   "id": "stunning-battlefield",
   "metadata": {},
   "outputs": [
    {
     "data": {
      "text/html": [
       "<div>\n",
       "<style scoped>\n",
       "    .dataframe tbody tr th:only-of-type {\n",
       "        vertical-align: middle;\n",
       "    }\n",
       "\n",
       "    .dataframe tbody tr th {\n",
       "        vertical-align: top;\n",
       "    }\n",
       "\n",
       "    .dataframe thead th {\n",
       "        text-align: right;\n",
       "    }\n",
       "</style>\n",
       "<table border=\"1\" class=\"dataframe\">\n",
       "  <thead>\n",
       "    <tr style=\"text-align: right;\">\n",
       "      <th></th>\n",
       "      <th></th>\n",
       "      <th>fid_100</th>\n",
       "      <th>n_null</th>\n",
       "      <th>objectid</th>\n",
       "      <th>shape_leng</th>\n",
       "      <th>region</th>\n",
       "      <th>laty</th>\n",
       "      <th>wb_adm0_co</th>\n",
       "      <th>un_m49</th>\n",
       "      <th>incomeg</th>\n",
       "      <th>lendingc</th>\n",
       "      <th>...</th>\n",
       "      <th>ndvi_mean_stddev</th>\n",
       "      <th>ndvi_min_mean</th>\n",
       "      <th>ndvi_min_max</th>\n",
       "      <th>ndvi_min_min</th>\n",
       "      <th>ndvi_min_stddev</th>\n",
       "      <th>ndvi_stddev_mean</th>\n",
       "      <th>ndvi_stddev_max</th>\n",
       "      <th>ndvi_stddev_min</th>\n",
       "      <th>ndvi_stddev_stddev</th>\n",
       "      <th>landsat_id</th>\n",
       "    </tr>\n",
       "    <tr>\n",
       "      <th>wb_adm0_na</th>\n",
       "      <th>year</th>\n",
       "      <th></th>\n",
       "      <th></th>\n",
       "      <th></th>\n",
       "      <th></th>\n",
       "      <th></th>\n",
       "      <th></th>\n",
       "      <th></th>\n",
       "      <th></th>\n",
       "      <th></th>\n",
       "      <th></th>\n",
       "      <th></th>\n",
       "      <th></th>\n",
       "      <th></th>\n",
       "      <th></th>\n",
       "      <th></th>\n",
       "      <th></th>\n",
       "      <th></th>\n",
       "      <th></th>\n",
       "      <th></th>\n",
       "      <th></th>\n",
       "      <th></th>\n",
       "    </tr>\n",
       "  </thead>\n",
       "  <tbody>\n",
       "    <tr>\n",
       "      <th>Palmyra Atoll (U.S.)</th>\n",
       "      <th>1984</th>\n",
       "      <td>17000</td>\n",
       "      <td>115</td>\n",
       "      <td>171</td>\n",
       "      <td>1.959129e+04</td>\n",
       "      <td>NaN</td>\n",
       "      <td>5.874767</td>\n",
       "      <td>190</td>\n",
       "      <td>581</td>\n",
       "      <td>NaN</td>\n",
       "      <td>NaN</td>\n",
       "      <td>...</td>\n",
       "      <td>NaN</td>\n",
       "      <td>NaN</td>\n",
       "      <td>NaN</td>\n",
       "      <td>NaN</td>\n",
       "      <td>NaN</td>\n",
       "      <td>NaN</td>\n",
       "      <td>NaN</td>\n",
       "      <td>NaN</td>\n",
       "      <td>NaN</td>\n",
       "      <td>LT05</td>\n",
       "    </tr>\n",
       "    <tr>\n",
       "      <th>Pitcairn Islands (U.K.)</th>\n",
       "      <th>1984</th>\n",
       "      <td>17600</td>\n",
       "      <td>115</td>\n",
       "      <td>177</td>\n",
       "      <td>5.426991e+04</td>\n",
       "      <td>NaN</td>\n",
       "      <td>-24.425808</td>\n",
       "      <td>197</td>\n",
       "      <td>612</td>\n",
       "      <td>NaN</td>\n",
       "      <td>NaN</td>\n",
       "      <td>...</td>\n",
       "      <td>NaN</td>\n",
       "      <td>NaN</td>\n",
       "      <td>NaN</td>\n",
       "      <td>NaN</td>\n",
       "      <td>NaN</td>\n",
       "      <td>NaN</td>\n",
       "      <td>NaN</td>\n",
       "      <td>NaN</td>\n",
       "      <td>NaN</td>\n",
       "      <td>LT05</td>\n",
       "    </tr>\n",
       "    <tr>\n",
       "      <th>Romania</th>\n",
       "      <th>1984</th>\n",
       "      <td>18200</td>\n",
       "      <td>3</td>\n",
       "      <td>183</td>\n",
       "      <td>4.042455e+06</td>\n",
       "      <td>NaN</td>\n",
       "      <td>45.843975</td>\n",
       "      <td>203</td>\n",
       "      <td>642</td>\n",
       "      <td>NaN</td>\n",
       "      <td>NaN</td>\n",
       "      <td>...</td>\n",
       "      <td>0.069123</td>\n",
       "      <td>0.145123</td>\n",
       "      <td>0.436650</td>\n",
       "      <td>0.100008</td>\n",
       "      <td>0.045366</td>\n",
       "      <td>0.176018</td>\n",
       "      <td>0.493399</td>\n",
       "      <td>0.100000</td>\n",
       "      <td>0.035404</td>\n",
       "      <td>LT05</td>\n",
       "    </tr>\n",
       "    <tr>\n",
       "      <th>Saint Helena, Ascension and Tristan da Cunha (U.K.)</th>\n",
       "      <th>1984</th>\n",
       "      <td>18500</td>\n",
       "      <td>115</td>\n",
       "      <td>186</td>\n",
       "      <td>2.236599e+05</td>\n",
       "      <td>NaN</td>\n",
       "      <td>-25.557539</td>\n",
       "      <td>207</td>\n",
       "      <td>654</td>\n",
       "      <td>NaN</td>\n",
       "      <td>NaN</td>\n",
       "      <td>...</td>\n",
       "      <td>NaN</td>\n",
       "      <td>NaN</td>\n",
       "      <td>NaN</td>\n",
       "      <td>NaN</td>\n",
       "      <td>NaN</td>\n",
       "      <td>NaN</td>\n",
       "      <td>NaN</td>\n",
       "      <td>NaN</td>\n",
       "      <td>NaN</td>\n",
       "      <td>LT05</td>\n",
       "    </tr>\n",
       "    <tr>\n",
       "      <th>Saint-Pierre-et-Miquelon (Fr.)</th>\n",
       "      <th>1984</th>\n",
       "      <td>18800</td>\n",
       "      <td>19</td>\n",
       "      <td>189</td>\n",
       "      <td>2.369267e+05</td>\n",
       "      <td>NaN</td>\n",
       "      <td>46.942070</td>\n",
       "      <td>210</td>\n",
       "      <td>666</td>\n",
       "      <td>NaN</td>\n",
       "      <td>NaN</td>\n",
       "      <td>...</td>\n",
       "      <td>0.086466</td>\n",
       "      <td>0.221855</td>\n",
       "      <td>0.441662</td>\n",
       "      <td>0.102969</td>\n",
       "      <td>0.090933</td>\n",
       "      <td>0.149610</td>\n",
       "      <td>0.227456</td>\n",
       "      <td>0.100085</td>\n",
       "      <td>0.032024</td>\n",
       "      <td>LT05</td>\n",
       "    </tr>\n",
       "  </tbody>\n",
       "</table>\n",
       "<p>5 rows × 31 columns</p>\n",
       "</div>"
      ],
      "text/plain": [
       "                                                         fid_100  n_null  \\\n",
       "wb_adm0_na                                         year                    \n",
       "Palmyra Atoll (U.S.)                               1984    17000     115   \n",
       "Pitcairn Islands (U.K.)                            1984    17600     115   \n",
       "Romania                                            1984    18200       3   \n",
       "Saint Helena, Ascension and Tristan da Cunha (U... 1984    18500     115   \n",
       "Saint-Pierre-et-Miquelon (Fr.)                     1984    18800      19   \n",
       "\n",
       "                                                         objectid  \\\n",
       "wb_adm0_na                                         year             \n",
       "Palmyra Atoll (U.S.)                               1984       171   \n",
       "Pitcairn Islands (U.K.)                            1984       177   \n",
       "Romania                                            1984       183   \n",
       "Saint Helena, Ascension and Tristan da Cunha (U... 1984       186   \n",
       "Saint-Pierre-et-Miquelon (Fr.)                     1984       189   \n",
       "\n",
       "                                                           shape_leng region  \\\n",
       "wb_adm0_na                                         year                        \n",
       "Palmyra Atoll (U.S.)                               1984  1.959129e+04    NaN   \n",
       "Pitcairn Islands (U.K.)                            1984  5.426991e+04    NaN   \n",
       "Romania                                            1984  4.042455e+06    NaN   \n",
       "Saint Helena, Ascension and Tristan da Cunha (U... 1984  2.236599e+05    NaN   \n",
       "Saint-Pierre-et-Miquelon (Fr.)                     1984  2.369267e+05    NaN   \n",
       "\n",
       "                                                              laty  \\\n",
       "wb_adm0_na                                         year              \n",
       "Palmyra Atoll (U.S.)                               1984   5.874767   \n",
       "Pitcairn Islands (U.K.)                            1984 -24.425808   \n",
       "Romania                                            1984  45.843975   \n",
       "Saint Helena, Ascension and Tristan da Cunha (U... 1984 -25.557539   \n",
       "Saint-Pierre-et-Miquelon (Fr.)                     1984  46.942070   \n",
       "\n",
       "                                                         wb_adm0_co  un_m49  \\\n",
       "wb_adm0_na                                         year                       \n",
       "Palmyra Atoll (U.S.)                               1984         190     581   \n",
       "Pitcairn Islands (U.K.)                            1984         197     612   \n",
       "Romania                                            1984         203     642   \n",
       "Saint Helena, Ascension and Tristan da Cunha (U... 1984         207     654   \n",
       "Saint-Pierre-et-Miquelon (Fr.)                     1984         210     666   \n",
       "\n",
       "                                                        incomeg lendingc  ...  \\\n",
       "wb_adm0_na                                         year                   ...   \n",
       "Palmyra Atoll (U.S.)                               1984     NaN      NaN  ...   \n",
       "Pitcairn Islands (U.K.)                            1984     NaN      NaN  ...   \n",
       "Romania                                            1984     NaN      NaN  ...   \n",
       "Saint Helena, Ascension and Tristan da Cunha (U... 1984     NaN      NaN  ...   \n",
       "Saint-Pierre-et-Miquelon (Fr.)                     1984     NaN      NaN  ...   \n",
       "\n",
       "                                                        ndvi_mean_stddev  \\\n",
       "wb_adm0_na                                         year                    \n",
       "Palmyra Atoll (U.S.)                               1984              NaN   \n",
       "Pitcairn Islands (U.K.)                            1984              NaN   \n",
       "Romania                                            1984         0.069123   \n",
       "Saint Helena, Ascension and Tristan da Cunha (U... 1984              NaN   \n",
       "Saint-Pierre-et-Miquelon (Fr.)                     1984         0.086466   \n",
       "\n",
       "                                                         ndvi_min_mean  \\\n",
       "wb_adm0_na                                         year                  \n",
       "Palmyra Atoll (U.S.)                               1984            NaN   \n",
       "Pitcairn Islands (U.K.)                            1984            NaN   \n",
       "Romania                                            1984       0.145123   \n",
       "Saint Helena, Ascension and Tristan da Cunha (U... 1984            NaN   \n",
       "Saint-Pierre-et-Miquelon (Fr.)                     1984       0.221855   \n",
       "\n",
       "                                                         ndvi_min_max  \\\n",
       "wb_adm0_na                                         year                 \n",
       "Palmyra Atoll (U.S.)                               1984           NaN   \n",
       "Pitcairn Islands (U.K.)                            1984           NaN   \n",
       "Romania                                            1984      0.436650   \n",
       "Saint Helena, Ascension and Tristan da Cunha (U... 1984           NaN   \n",
       "Saint-Pierre-et-Miquelon (Fr.)                     1984      0.441662   \n",
       "\n",
       "                                                        ndvi_min_min  \\\n",
       "wb_adm0_na                                         year                \n",
       "Palmyra Atoll (U.S.)                               1984          NaN   \n",
       "Pitcairn Islands (U.K.)                            1984          NaN   \n",
       "Romania                                            1984     0.100008   \n",
       "Saint Helena, Ascension and Tristan da Cunha (U... 1984          NaN   \n",
       "Saint-Pierre-et-Miquelon (Fr.)                     1984     0.102969   \n",
       "\n",
       "                                                         ndvi_min_stddev  \\\n",
       "wb_adm0_na                                         year                    \n",
       "Palmyra Atoll (U.S.)                               1984              NaN   \n",
       "Pitcairn Islands (U.K.)                            1984              NaN   \n",
       "Romania                                            1984         0.045366   \n",
       "Saint Helena, Ascension and Tristan da Cunha (U... 1984              NaN   \n",
       "Saint-Pierre-et-Miquelon (Fr.)                     1984         0.090933   \n",
       "\n",
       "                                                         ndvi_stddev_mean  \\\n",
       "wb_adm0_na                                         year                     \n",
       "Palmyra Atoll (U.S.)                               1984               NaN   \n",
       "Pitcairn Islands (U.K.)                            1984               NaN   \n",
       "Romania                                            1984          0.176018   \n",
       "Saint Helena, Ascension and Tristan da Cunha (U... 1984               NaN   \n",
       "Saint-Pierre-et-Miquelon (Fr.)                     1984          0.149610   \n",
       "\n",
       "                                                         ndvi_stddev_max  \\\n",
       "wb_adm0_na                                         year                    \n",
       "Palmyra Atoll (U.S.)                               1984              NaN   \n",
       "Pitcairn Islands (U.K.)                            1984              NaN   \n",
       "Romania                                            1984         0.493399   \n",
       "Saint Helena, Ascension and Tristan da Cunha (U... 1984              NaN   \n",
       "Saint-Pierre-et-Miquelon (Fr.)                     1984         0.227456   \n",
       "\n",
       "                                                         ndvi_stddev_min  \\\n",
       "wb_adm0_na                                         year                    \n",
       "Palmyra Atoll (U.S.)                               1984              NaN   \n",
       "Pitcairn Islands (U.K.)                            1984              NaN   \n",
       "Romania                                            1984         0.100000   \n",
       "Saint Helena, Ascension and Tristan da Cunha (U... 1984              NaN   \n",
       "Saint-Pierre-et-Miquelon (Fr.)                     1984         0.100085   \n",
       "\n",
       "                                                         ndvi_stddev_stddev  \\\n",
       "wb_adm0_na                                         year                       \n",
       "Palmyra Atoll (U.S.)                               1984                 NaN   \n",
       "Pitcairn Islands (U.K.)                            1984                 NaN   \n",
       "Romania                                            1984            0.035404   \n",
       "Saint Helena, Ascension and Tristan da Cunha (U... 1984                 NaN   \n",
       "Saint-Pierre-et-Miquelon (Fr.)                     1984            0.032024   \n",
       "\n",
       "                                                         landsat_id  \n",
       "wb_adm0_na                                         year              \n",
       "Palmyra Atoll (U.S.)                               1984        LT05  \n",
       "Pitcairn Islands (U.K.)                            1984        LT05  \n",
       "Romania                                            1984        LT05  \n",
       "Saint Helena, Ascension and Tristan da Cunha (U... 1984        LT05  \n",
       "Saint-Pierre-et-Miquelon (Fr.)                     1984        LT05  \n",
       "\n",
       "[5 rows x 31 columns]"
      ]
     },
     "execution_count": 13,
     "metadata": {},
     "output_type": "execute_result"
    }
   ],
   "source": [
    "ndvi.head()"
   ]
  },
  {
   "cell_type": "code",
   "execution_count": 14,
   "id": "recent-walker",
   "metadata": {},
   "outputs": [
    {
     "data": {
      "text/html": [
       "<div>\n",
       "<style scoped>\n",
       "    .dataframe tbody tr th:only-of-type {\n",
       "        vertical-align: middle;\n",
       "    }\n",
       "\n",
       "    .dataframe tbody tr th {\n",
       "        vertical-align: top;\n",
       "    }\n",
       "\n",
       "    .dataframe thead th {\n",
       "        text-align: right;\n",
       "    }\n",
       "</style>\n",
       "<table border=\"1\" class=\"dataframe\">\n",
       "  <thead>\n",
       "    <tr style=\"text-align: right;\">\n",
       "      <th></th>\n",
       "      <th>fid_100</th>\n",
       "      <th>n_null</th>\n",
       "      <th>objectid</th>\n",
       "      <th>shape_leng</th>\n",
       "      <th>region</th>\n",
       "      <th>laty</th>\n",
       "      <th>wb_adm0_co</th>\n",
       "      <th>un_m49</th>\n",
       "      <th>incomeg</th>\n",
       "      <th>lendingc</th>\n",
       "      <th>...</th>\n",
       "      <th>ndvi_mean_stddev</th>\n",
       "      <th>ndvi_min_mean</th>\n",
       "      <th>ndvi_min_max</th>\n",
       "      <th>ndvi_min_min</th>\n",
       "      <th>ndvi_min_stddev</th>\n",
       "      <th>ndvi_stddev_mean</th>\n",
       "      <th>ndvi_stddev_max</th>\n",
       "      <th>ndvi_stddev_min</th>\n",
       "      <th>ndvi_stddev_stddev</th>\n",
       "      <th>landsat_id</th>\n",
       "    </tr>\n",
       "    <tr>\n",
       "      <th>year</th>\n",
       "      <th></th>\n",
       "      <th></th>\n",
       "      <th></th>\n",
       "      <th></th>\n",
       "      <th></th>\n",
       "      <th></th>\n",
       "      <th></th>\n",
       "      <th></th>\n",
       "      <th></th>\n",
       "      <th></th>\n",
       "      <th></th>\n",
       "      <th></th>\n",
       "      <th></th>\n",
       "      <th></th>\n",
       "      <th></th>\n",
       "      <th></th>\n",
       "      <th></th>\n",
       "      <th></th>\n",
       "      <th></th>\n",
       "      <th></th>\n",
       "      <th></th>\n",
       "    </tr>\n",
       "  </thead>\n",
       "  <tbody>\n",
       "    <tr>\n",
       "      <th>1984</th>\n",
       "      <td>22500</td>\n",
       "      <td>20</td>\n",
       "      <td>226</td>\n",
       "      <td>2.588540e+06</td>\n",
       "      <td>Sub-Saharan Africa</td>\n",
       "      <td>1.279114</td>\n",
       "      <td>253</td>\n",
       "      <td>800</td>\n",
       "      <td>Low income</td>\n",
       "      <td>IDA</td>\n",
       "      <td>...</td>\n",
       "      <td>0.116260</td>\n",
       "      <td>0.295688</td>\n",
       "      <td>0.746945</td>\n",
       "      <td>0.100001</td>\n",
       "      <td>0.159135</td>\n",
       "      <td>0.171805</td>\n",
       "      <td>0.518526</td>\n",
       "      <td>0.100004</td>\n",
       "      <td>0.042978</td>\n",
       "      <td>LT05</td>\n",
       "    </tr>\n",
       "    <tr>\n",
       "      <th>1985</th>\n",
       "      <td>22500</td>\n",
       "      <td>20</td>\n",
       "      <td>226</td>\n",
       "      <td>2.588540e+06</td>\n",
       "      <td>Sub-Saharan Africa</td>\n",
       "      <td>1.279114</td>\n",
       "      <td>253</td>\n",
       "      <td>800</td>\n",
       "      <td>Low income</td>\n",
       "      <td>IDA</td>\n",
       "      <td>...</td>\n",
       "      <td>0.132230</td>\n",
       "      <td>0.283866</td>\n",
       "      <td>0.707618</td>\n",
       "      <td>0.100004</td>\n",
       "      <td>0.135296</td>\n",
       "      <td>0.141957</td>\n",
       "      <td>0.553882</td>\n",
       "      <td>0.100008</td>\n",
       "      <td>0.037616</td>\n",
       "      <td>LT05</td>\n",
       "    </tr>\n",
       "    <tr>\n",
       "      <th>1986</th>\n",
       "      <td>22500</td>\n",
       "      <td>20</td>\n",
       "      <td>226</td>\n",
       "      <td>2.588540e+06</td>\n",
       "      <td>Sub-Saharan Africa</td>\n",
       "      <td>1.279114</td>\n",
       "      <td>253</td>\n",
       "      <td>800</td>\n",
       "      <td>Low income</td>\n",
       "      <td>IDA</td>\n",
       "      <td>...</td>\n",
       "      <td>0.102061</td>\n",
       "      <td>0.208122</td>\n",
       "      <td>0.630003</td>\n",
       "      <td>0.100001</td>\n",
       "      <td>0.088420</td>\n",
       "      <td>0.162530</td>\n",
       "      <td>0.360771</td>\n",
       "      <td>0.100000</td>\n",
       "      <td>0.037646</td>\n",
       "      <td>LT05</td>\n",
       "    </tr>\n",
       "    <tr>\n",
       "      <th>1987</th>\n",
       "      <td>22500</td>\n",
       "      <td>20</td>\n",
       "      <td>226</td>\n",
       "      <td>2.588540e+06</td>\n",
       "      <td>Sub-Saharan Africa</td>\n",
       "      <td>1.279114</td>\n",
       "      <td>253</td>\n",
       "      <td>800</td>\n",
       "      <td>Low income</td>\n",
       "      <td>IDA</td>\n",
       "      <td>...</td>\n",
       "      <td>0.103353</td>\n",
       "      <td>0.217468</td>\n",
       "      <td>0.736020</td>\n",
       "      <td>0.100001</td>\n",
       "      <td>0.134141</td>\n",
       "      <td>0.165408</td>\n",
       "      <td>0.420269</td>\n",
       "      <td>0.100000</td>\n",
       "      <td>0.036415</td>\n",
       "      <td>LT05</td>\n",
       "    </tr>\n",
       "    <tr>\n",
       "      <th>1988</th>\n",
       "      <td>22500</td>\n",
       "      <td>20</td>\n",
       "      <td>226</td>\n",
       "      <td>2.588540e+06</td>\n",
       "      <td>Sub-Saharan Africa</td>\n",
       "      <td>1.279114</td>\n",
       "      <td>253</td>\n",
       "      <td>800</td>\n",
       "      <td>Low income</td>\n",
       "      <td>IDA</td>\n",
       "      <td>...</td>\n",
       "      <td>0.063640</td>\n",
       "      <td>0.185641</td>\n",
       "      <td>0.645917</td>\n",
       "      <td>0.100038</td>\n",
       "      <td>0.094238</td>\n",
       "      <td>0.174365</td>\n",
       "      <td>0.347420</td>\n",
       "      <td>0.100068</td>\n",
       "      <td>0.032993</td>\n",
       "      <td>LT05</td>\n",
       "    </tr>\n",
       "  </tbody>\n",
       "</table>\n",
       "<p>5 rows × 31 columns</p>\n",
       "</div>"
      ],
      "text/plain": [
       "      fid_100  n_null  objectid    shape_leng              region      laty  \\\n",
       "year                                                                          \n",
       "1984    22500      20       226  2.588540e+06  Sub-Saharan Africa  1.279114   \n",
       "1985    22500      20       226  2.588540e+06  Sub-Saharan Africa  1.279114   \n",
       "1986    22500      20       226  2.588540e+06  Sub-Saharan Africa  1.279114   \n",
       "1987    22500      20       226  2.588540e+06  Sub-Saharan Africa  1.279114   \n",
       "1988    22500      20       226  2.588540e+06  Sub-Saharan Africa  1.279114   \n",
       "\n",
       "      wb_adm0_co  un_m49     incomeg lendingc  ... ndvi_mean_stddev  \\\n",
       "year                                           ...                    \n",
       "1984         253     800  Low income      IDA  ...         0.116260   \n",
       "1985         253     800  Low income      IDA  ...         0.132230   \n",
       "1986         253     800  Low income      IDA  ...         0.102061   \n",
       "1987         253     800  Low income      IDA  ...         0.103353   \n",
       "1988         253     800  Low income      IDA  ...         0.063640   \n",
       "\n",
       "      ndvi_min_mean  ndvi_min_max ndvi_min_min  ndvi_min_stddev  \\\n",
       "year                                                              \n",
       "1984       0.295688      0.746945     0.100001         0.159135   \n",
       "1985       0.283866      0.707618     0.100004         0.135296   \n",
       "1986       0.208122      0.630003     0.100001         0.088420   \n",
       "1987       0.217468      0.736020     0.100001         0.134141   \n",
       "1988       0.185641      0.645917     0.100038         0.094238   \n",
       "\n",
       "      ndvi_stddev_mean  ndvi_stddev_max  ndvi_stddev_min  ndvi_stddev_stddev  \\\n",
       "year                                                                           \n",
       "1984          0.171805         0.518526         0.100004            0.042978   \n",
       "1985          0.141957         0.553882         0.100008            0.037616   \n",
       "1986          0.162530         0.360771         0.100000            0.037646   \n",
       "1987          0.165408         0.420269         0.100000            0.036415   \n",
       "1988          0.174365         0.347420         0.100068            0.032993   \n",
       "\n",
       "      landsat_id  \n",
       "year              \n",
       "1984        LT05  \n",
       "1985        LT05  \n",
       "1986        LT05  \n",
       "1987        LT05  \n",
       "1988        LT05  \n",
       "\n",
       "[5 rows x 31 columns]"
      ]
     },
     "execution_count": 14,
     "metadata": {},
     "output_type": "execute_result"
    }
   ],
   "source": [
    "ndvi.loc[\"Uganda\"].head()"
   ]
  },
  {
   "cell_type": "code",
   "execution_count": 15,
   "id": "sufficient-scheduling",
   "metadata": {},
   "outputs": [],
   "source": [
    "out_dir = os.path.join(data_dir, \"output\")\n",
    "if not os.path.exists(out_dir):\n",
    "    os.mkdir(out_dir)"
   ]
  },
  {
   "cell_type": "code",
   "execution_count": 94,
   "id": "subjective-screen",
   "metadata": {},
   "outputs": [],
   "source": [
    "ndvi.to_csv(os.path.join(out_dir, \"ndvi.csv\"))"
   ]
  },
  {
   "cell_type": "markdown",
   "id": "qualified-ticket",
   "metadata": {},
   "source": [
    "## EVI"
   ]
  },
  {
   "cell_type": "code",
   "execution_count": 155,
   "id": "conditional-audit",
   "metadata": {},
   "outputs": [],
   "source": [
    "evi_dir = os.path.join(data_dir, 'evi')"
   ]
  },
  {
   "cell_type": "code",
   "execution_count": 158,
   "id": "rural-northeast",
   "metadata": {},
   "outputs": [],
   "source": [
    "res = [process_collection(lc_id, evi_dir) for lc_id in lc_ids]"
   ]
  },
  {
   "cell_type": "code",
   "execution_count": 160,
   "id": "incorporated-belief",
   "metadata": {},
   "outputs": [],
   "source": [
    "evi = pd.concat(res, axis=0)"
   ]
  },
  {
   "cell_type": "code",
   "execution_count": 162,
   "id": "destroyed-booking",
   "metadata": {},
   "outputs": [],
   "source": [
    "evi.to_csv(os.path.join(out_dir, \"evi.csv\"))"
   ]
  },
  {
   "cell_type": "markdown",
   "id": "atmospheric-ceiling",
   "metadata": {},
   "source": [
    "## NDSI"
   ]
  },
  {
   "cell_type": "code",
   "execution_count": 13,
   "id": "white-wisconsin",
   "metadata": {},
   "outputs": [],
   "source": [
    "ndsi_dir = os.path.join(data_dir, 'ndsi')\n",
    "res = [process_collection(lc_id, ndsi_dir) for lc_id in lc_ids]"
   ]
  },
  {
   "cell_type": "code",
   "execution_count": 19,
   "id": "affected-spiritual",
   "metadata": {},
   "outputs": [],
   "source": [
    "ndsi = pd.concat(res, axis=0)\n",
    "ndsi.to_csv(os.path.join(out_dir, \"ndsi.csv\"))"
   ]
  },
  {
   "cell_type": "markdown",
   "id": "exterior-poverty",
   "metadata": {},
   "source": [
    "## NDWI"
   ]
  },
  {
   "cell_type": "code",
   "execution_count": 20,
   "id": "radio-bruce",
   "metadata": {},
   "outputs": [],
   "source": [
    "ndwi_dir = os.path.join(data_dir, 'ndwi')\n",
    "res = [process_collection(lc_id, ndwi_dir) for lc_id in lc_ids]"
   ]
  },
  {
   "cell_type": "code",
   "execution_count": 21,
   "id": "ongoing-format",
   "metadata": {},
   "outputs": [],
   "source": [
    "ndwi = pd.concat(res, axis=0)\n",
    "ndwi.to_csv(os.path.join(out_dir, \"ndwi.csv\"))"
   ]
  },
  {
   "cell_type": "markdown",
   "id": "normal-validation",
   "metadata": {},
   "source": [
    "## Chirps"
   ]
  },
  {
   "cell_type": "code",
   "execution_count": 18,
   "id": "relative-butler",
   "metadata": {},
   "outputs": [],
   "source": [
    "chirps_dir = os.path.join(data_dir, \"chirps\")"
   ]
  },
  {
   "cell_type": "code",
   "execution_count": 19,
   "id": "thorough-spiritual",
   "metadata": {},
   "outputs": [],
   "source": [
    "rain_all = pd.read_csv(os.path.join(chirps_dir, \"chirps.csv\"))\n",
    "rain_sum = pd.read_csv(os.path.join(chirps_dir, \"chirps_sum.csv\"))"
   ]
  },
  {
   "cell_type": "code",
   "execution_count": 20,
   "id": "rotary-welcome",
   "metadata": {},
   "outputs": [],
   "source": [
    "def rename_func(col):\n",
    "    if 'precipitation' in col:\n",
    "        new_name = col+\"_sum\"\n",
    "        return new_name\n",
    "    else:\n",
    "        return col"
   ]
  },
  {
   "cell_type": "code",
   "execution_count": 21,
   "id": "engaged-network",
   "metadata": {},
   "outputs": [],
   "source": [
    "rain_sum.rename(rename_func, axis=1, inplace=True)"
   ]
  },
  {
   "cell_type": "code",
   "execution_count": 23,
   "id": "verified-triumph",
   "metadata": {},
   "outputs": [],
   "source": [
    "rain_all = rain_all.join(rain_sum.loc[:,rain_sum.columns[['precipitation' in col for col in rain_sum.columns]]], how='outer')"
   ]
  },
  {
   "cell_type": "code",
   "execution_count": 24,
   "id": "mighty-bikini",
   "metadata": {},
   "outputs": [],
   "source": [
    "df = rain_all.copy()"
   ]
  },
  {
   "cell_type": "code",
   "execution_count": 25,
   "id": "known-merchandise",
   "metadata": {},
   "outputs": [],
   "source": [
    "df.drop(columns=\".geo\", inplace=True)"
   ]
  },
  {
   "cell_type": "code",
   "execution_count": 26,
   "id": "suitable-absolute",
   "metadata": {},
   "outputs": [],
   "source": [
    "var_name = 'precipitation'"
   ]
  },
  {
   "cell_type": "code",
   "execution_count": 27,
   "id": "varied-covering",
   "metadata": {},
   "outputs": [],
   "source": [
    "def rename_func(col):\n",
    "    if var_name in col:\n",
    "        p = col.split(\"_\")\n",
    "        new_name = p[1]+\"_\"+p[2]+\"_\"+p[3]+\"__\"+p[0]\n",
    "        return new_name\n",
    "    else:\n",
    "        return col"
   ]
  },
  {
   "cell_type": "code",
   "execution_count": 28,
   "id": "severe-feature",
   "metadata": {},
   "outputs": [],
   "source": [
    "df.rename(rename_func, axis=1, inplace=True)\n",
    "df.rename(str.lower, axis=1, inplace=True)"
   ]
  },
  {
   "cell_type": "code",
   "execution_count": 29,
   "id": "moral-status",
   "metadata": {},
   "outputs": [
    {
     "data": {
      "text/plain": [
       "['mean', 'max', 'min', 'stddev']"
      ]
     },
     "execution_count": 29,
     "metadata": {},
     "output_type": "execute_result"
    }
   ],
   "source": [
    "temp_stats"
   ]
  },
  {
   "cell_type": "code",
   "execution_count": 30,
   "id": "ordered-workshop",
   "metadata": {},
   "outputs": [],
   "source": [
    "var = \"precipitation_sum\""
   ]
  },
  {
   "cell_type": "code",
   "execution_count": 31,
   "id": "built-preservation",
   "metadata": {},
   "outputs": [],
   "source": [
    "stats = temp_stats + ['sum']"
   ]
  },
  {
   "cell_type": "code",
   "execution_count": 32,
   "id": "polyphonic-flower",
   "metadata": {},
   "outputs": [],
   "source": [
    "stubs = []\n",
    "for temp_stat in stats: \n",
    "    var2 = \"_\".join([var, temp_stat])\n",
    "    stubs.append(var2)"
   ]
  },
  {
   "cell_type": "code",
   "execution_count": 34,
   "id": "thick-passion",
   "metadata": {},
   "outputs": [],
   "source": [
    "df_re = pd.wide_to_long(\n",
    "    df,\n",
    "    stubnames = stubs,\n",
    "    i = 'wb_adm0_na',\n",
    "    j = 'year',\n",
    "    sep = \"__\"\n",
    ")"
   ]
  },
  {
   "cell_type": "code",
   "execution_count": 45,
   "id": "brief-kernel",
   "metadata": {},
   "outputs": [],
   "source": [
    "df_re.to_csv(os.path.join(out_dir, \"chirps.csv\"))"
   ]
  },
  {
   "cell_type": "markdown",
   "id": "supposed-plasma",
   "metadata": {},
   "source": [
    "## Lights"
   ]
  },
  {
   "cell_type": "code",
   "execution_count": 36,
   "id": "included-bargain",
   "metadata": {},
   "outputs": [],
   "source": [
    "def process_data(files_dir, var_name):\n",
    "    files = glob.glob(files_dir+f\"/*\")\n",
    "    l_processed = [process_file(file, var_name) for file in files]\n",
    "    l_all = pd.concat(l_processed, axis=1)\n",
    "    l_all = l_all.loc[:, ~l_all.columns.duplicated()].copy()\n",
    "    return l_all"
   ]
  },
  {
   "cell_type": "code",
   "execution_count": 37,
   "id": "disturbed-evolution",
   "metadata": {},
   "outputs": [],
   "source": [
    "def process_file(file_path, var_name):\n",
    "    \n",
    "    df = pd.read_csv(file_path, index_col=0)\n",
    "#     df.reset_index(drop=True, inplace=True)\n",
    "    df.drop(columns=\".geo\", inplace=True)\n",
    "    df.loc[:, \"n_null\"] = df.apply(lambda x: x.isna().sum(), axis=1)\n",
    "#     df = df.loc[df.n_null<df.n_null.max()]\n",
    "    \n",
    "    file = os.path.basename(file_path)\n",
    "    source, temp_stat = file.replace(\".csv\", \"\").split(\"_\")\n",
    "#     var_name = \"stable_lights\"\n",
    "    var = \"_\".join([var_name, temp_stat])\n",
    "    stubs = [\"_\".join([var, a]) for a in temp_stats]\n",
    "    \n",
    "    def rename_func(col):\n",
    "        if var_name in col:\n",
    "            p = col.split(\"_\")\n",
    "            new_name = 'lights'+\"_\"+p[3]+\"_\"+p[4]+\"__\"+p[0]\n",
    "            return new_name\n",
    "        else:\n",
    "            return col\n",
    "    \n",
    "    df.rename(rename_func, axis=1, inplace=True)\n",
    "    df.rename(str.lower, axis=1, inplace=True)\n",
    "    \n",
    "    df_re = pd.wide_to_long(\n",
    "        df,\n",
    "        stubnames = stubs,\n",
    "        i = 'wb_adm0_na',\n",
    "        j = 'year',\n",
    "        sep = \"__\"\n",
    "    )\n",
    "    \n",
    "    return df_re"
   ]
  },
  {
   "cell_type": "code",
   "execution_count": 38,
   "id": "powerful-access",
   "metadata": {},
   "outputs": [],
   "source": [
    "dmps_dir = os.path.join(data_dir, \"dmps\")"
   ]
  },
  {
   "cell_type": "code",
   "execution_count": 39,
   "id": "blind-treat",
   "metadata": {},
   "outputs": [],
   "source": [
    "dmps = process_data(dmps_dir, \"stable_lights\")"
   ]
  },
  {
   "cell_type": "code",
   "execution_count": 133,
   "id": "violent-charlotte",
   "metadata": {},
   "outputs": [],
   "source": [
    "dmps.to_csv(os.path.join(out_dir, \"dmps.csv\"))"
   ]
  },
  {
   "cell_type": "code",
   "execution_count": 18,
   "id": "confused-license",
   "metadata": {},
   "outputs": [],
   "source": [
    "viirs_dir = os.path.join(data_dir, \"viirs\")"
   ]
  },
  {
   "cell_type": "code",
   "execution_count": 22,
   "id": "accredited-philip",
   "metadata": {},
   "outputs": [],
   "source": [
    "viirs = process_data(viirs_dir, 'stable_lights')"
   ]
  },
  {
   "cell_type": "code",
   "execution_count": 24,
   "id": "metallic-filter",
   "metadata": {},
   "outputs": [],
   "source": [
    "viirs.to_csv(os.path.join(out_dir, \"viirs.csv\"))"
   ]
  },
  {
   "cell_type": "markdown",
   "id": "agricultural-radio",
   "metadata": {},
   "source": [
    "## LST"
   ]
  },
  {
   "cell_type": "code",
   "execution_count": 8,
   "id": "impressed-orange",
   "metadata": {},
   "outputs": [],
   "source": [
    "lst_dir = os.path.join(data_dir, \"lst\")"
   ]
  },
  {
   "cell_type": "code",
   "execution_count": 11,
   "id": "assumed-marking",
   "metadata": {},
   "outputs": [],
   "source": [
    "lst = process_data(lst_dir)"
   ]
  },
  {
   "cell_type": "code",
   "execution_count": 16,
   "id": "dirty-photography",
   "metadata": {},
   "outputs": [],
   "source": [
    "lst.to_csv(os.path.join(out_dir, \"temperature.csv\"))"
   ]
  },
  {
   "cell_type": "markdown",
   "id": "brown-navigation",
   "metadata": {},
   "source": [
    "## Cropland"
   ]
  },
  {
   "cell_type": "code",
   "execution_count": 152,
   "id": "quarterly-lesson",
   "metadata": {},
   "outputs": [],
   "source": [
    "df = pd.read_csv(os.path.join(data_dir, 'cropland', 'cropland.csv'))"
   ]
  },
  {
   "cell_type": "code",
   "execution_count": 154,
   "id": "raised-melbourne",
   "metadata": {},
   "outputs": [],
   "source": [
    "df.drop(columns=\".geo\", inplace=True)\n",
    "df.rename(str.lower, axis=1, inplace=True)\n",
    "df_re = pd.wide_to_long(\n",
    "    df,\n",
    "    stubnames = ['cropland'],\n",
    "    i = 'wb_adm0_na',\n",
    "    j = 'year',\n",
    "    sep = \"_\"\n",
    ")"
   ]
  },
  {
   "cell_type": "code",
   "execution_count": 156,
   "id": "rough-remainder",
   "metadata": {},
   "outputs": [],
   "source": [
    "df_re.to_csv(os.path.join(out_dir, \"cropland.csv\"))"
   ]
  },
  {
   "cell_type": "markdown",
   "id": "preceding-length",
   "metadata": {},
   "source": [
    "## Impervious"
   ]
  },
  {
   "cell_type": "code",
   "execution_count": 157,
   "id": "italic-relationship",
   "metadata": {},
   "outputs": [],
   "source": [
    "df = pd.read_csv(os.path.join(data_dir, 'impervious', 'impervious.csv'))"
   ]
  },
  {
   "cell_type": "code",
   "execution_count": 160,
   "id": "elementary-allocation",
   "metadata": {},
   "outputs": [],
   "source": [
    "df.drop(columns=\".geo\", inplace=True)\n",
    "df.rename(str.lower, axis=1, inplace=True)\n",
    "df_re = pd.wide_to_long(\n",
    "    df,\n",
    "    stubnames = ['imperv'],\n",
    "    i = 'wb_adm0_na',\n",
    "    j = 'year',\n",
    "    sep = \"_\"\n",
    ")"
   ]
  },
  {
   "cell_type": "code",
   "execution_count": 162,
   "id": "formal-enlargement",
   "metadata": {},
   "outputs": [],
   "source": [
    "df_re.to_csv(os.path.join(out_dir, \"impervious.csv\"))"
   ]
  }
 ],
 "metadata": {
  "kernelspec": {
   "display_name": "Earth Engine",
   "language": "python",
   "name": "ee"
  },
  "language_info": {
   "codemirror_mode": {
    "name": "ipython",
    "version": 3
   },
   "file_extension": ".py",
   "mimetype": "text/x-python",
   "name": "python",
   "nbconvert_exporter": "python",
   "pygments_lexer": "ipython3",
   "version": "3.8.8"
  },
  "toc": {
   "base_numbering": 1,
   "nav_menu": {},
   "number_sections": true,
   "sideBar": true,
   "skip_h1_title": false,
   "title_cell": "Table of Contents",
   "title_sidebar": "Contents",
   "toc_cell": false,
   "toc_position": {},
   "toc_section_display": true,
   "toc_window_display": false
  },
  "varInspector": {
   "cols": {
    "lenName": 16,
    "lenType": 16,
    "lenVar": 40
   },
   "kernels_config": {
    "python": {
     "delete_cmd_postfix": "",
     "delete_cmd_prefix": "del ",
     "library": "var_list.py",
     "varRefreshCmd": "print(var_dic_list())"
    },
    "r": {
     "delete_cmd_postfix": ") ",
     "delete_cmd_prefix": "rm(",
     "library": "var_list.r",
     "varRefreshCmd": "cat(var_dic_list()) "
    }
   },
   "types_to_exclude": [
    "module",
    "function",
    "builtin_function_or_method",
    "instance",
    "_Feature"
   ],
   "window_display": false
  }
 },
 "nbformat": 4,
 "nbformat_minor": 5
}
