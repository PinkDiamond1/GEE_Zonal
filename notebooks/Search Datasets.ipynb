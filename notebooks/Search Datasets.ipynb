{
 "cells": [
  {
   "cell_type": "code",
   "execution_count": 1,
   "id": "convinced-nickel",
   "metadata": {},
   "outputs": [],
   "source": [
    "import sys\n",
    "sys.path.append('../src')"
   ]
  },
  {
   "cell_type": "code",
   "execution_count": 2,
   "id": "transparent-marketing",
   "metadata": {},
   "outputs": [],
   "source": [
    "from gee_tools import Catalog"
   ]
  },
  {
   "cell_type": "code",
   "execution_count": 3,
   "id": "documentary-reason",
   "metadata": {},
   "outputs": [],
   "source": [
    "cat = Catalog()"
   ]
  },
  {
   "cell_type": "markdown",
   "id": "incredible-massachusetts",
   "metadata": {},
   "source": [
    "Access the Earth Engine data catalog through Catalog.datasets"
   ]
  },
  {
   "cell_type": "code",
   "execution_count": 4,
   "id": "incomplete-bunch",
   "metadata": {},
   "outputs": [
    {
     "data": {
      "text/html": [
       "<div>\n",
       "<style scoped>\n",
       "    .dataframe tbody tr th:only-of-type {\n",
       "        vertical-align: middle;\n",
       "    }\n",
       "\n",
       "    .dataframe tbody tr th {\n",
       "        vertical-align: top;\n",
       "    }\n",
       "\n",
       "    .dataframe thead th {\n",
       "        text-align: right;\n",
       "    }\n",
       "</style>\n",
       "<table border=\"1\" class=\"dataframe\">\n",
       "  <thead>\n",
       "    <tr style=\"text-align: right;\">\n",
       "      <th></th>\n",
       "      <th>id</th>\n",
       "      <th>provider</th>\n",
       "      <th>title</th>\n",
       "      <th>start_date</th>\n",
       "      <th>end_date</th>\n",
       "      <th>startyear</th>\n",
       "      <th>endyear</th>\n",
       "      <th>type</th>\n",
       "      <th>tags</th>\n",
       "      <th>asset_url</th>\n",
       "      <th>thumbnail_url</th>\n",
       "    </tr>\n",
       "  </thead>\n",
       "  <tbody>\n",
       "    <tr>\n",
       "      <th>0</th>\n",
       "      <td>AAFC/ACI</td>\n",
       "      <td>Agriculture and Agri-Food Canada</td>\n",
       "      <td>Canada AAFC Annual Crop Inventory</td>\n",
       "      <td>2009-01-01</td>\n",
       "      <td>2021-03-08</td>\n",
       "      <td>2009</td>\n",
       "      <td>2021</td>\n",
       "      <td>image_collection</td>\n",
       "      <td>[aafc, canada, crop, landcover]</td>\n",
       "      <td>https://developers.google.com/earth-engine/datasets/catalog/AAFC_ACI</td>\n",
       "      <td>https://mw1.google.com/ges/dd/images/AAFC_ACI_sample.png</td>\n",
       "    </tr>\n",
       "    <tr>\n",
       "      <th>1</th>\n",
       "      <td>AHN/AHN2_05M_INT</td>\n",
       "      <td>AHN</td>\n",
       "      <td>AHN Netherlands 0.5m DEM, Interpolated</td>\n",
       "      <td>2012-01-01</td>\n",
       "      <td>2012-01-01</td>\n",
       "      <td>2012</td>\n",
       "      <td>2012</td>\n",
       "      <td>image</td>\n",
       "      <td>[ahn, dem, elevation, geophysical, lidar, netherlands]</td>\n",
       "      <td>https://developers.google.com/earth-engine/datasets/catalog/AHN_AHN2_05M_INT</td>\n",
       "      <td>https://mw1.google.com/ges/dd/images/AHN_AHN2_05M_INT_sample.png</td>\n",
       "    </tr>\n",
       "    <tr>\n",
       "      <th>2</th>\n",
       "      <td>AHN/AHN2_05M_NON</td>\n",
       "      <td>AHN</td>\n",
       "      <td>AHN Netherlands 0.5m DEM, Non-Interpolated</td>\n",
       "      <td>2012-01-01</td>\n",
       "      <td>2012-01-01</td>\n",
       "      <td>2012</td>\n",
       "      <td>2012</td>\n",
       "      <td>image</td>\n",
       "      <td>[ahn, dem, elevation, geophysical, lidar, netherlands]</td>\n",
       "      <td>https://developers.google.com/earth-engine/datasets/catalog/AHN_AHN2_05M_NON</td>\n",
       "      <td>https://mw1.google.com/ges/dd/images/AHN_AHN2_05M_NON_sample.png</td>\n",
       "    </tr>\n",
       "    <tr>\n",
       "      <th>3</th>\n",
       "      <td>AHN/AHN2_05M_RUW</td>\n",
       "      <td>AHN</td>\n",
       "      <td>AHN Netherlands 0.5m DEM, Raw Samples</td>\n",
       "      <td>2012-01-01</td>\n",
       "      <td>2012-01-01</td>\n",
       "      <td>2012</td>\n",
       "      <td>2012</td>\n",
       "      <td>image</td>\n",
       "      <td>[ahn, dem, elevation, geophysical, lidar, netherlands]</td>\n",
       "      <td>https://developers.google.com/earth-engine/datasets/catalog/AHN_AHN2_05M_RUW</td>\n",
       "      <td>https://mw1.google.com/ges/dd/images/AHN_AHN2_05M_RUW_sample.png</td>\n",
       "    </tr>\n",
       "    <tr>\n",
       "      <th>4</th>\n",
       "      <td>ASTER/AST_L1T_003</td>\n",
       "      <td>NASA LP DAAC at the USGS EROS Center</td>\n",
       "      <td>ASTER L1T Radiance</td>\n",
       "      <td>2000-03-04</td>\n",
       "      <td>2021-03-08</td>\n",
       "      <td>2000</td>\n",
       "      <td>2021</td>\n",
       "      <td>image_collection</td>\n",
       "      <td>[aster, eos, imagery, nasa, nir, radiance, swir, terra, thermal, tir, toa, usgs, vnir]</td>\n",
       "      <td>https://developers.google.com/earth-engine/datasets/catalog/ASTER_AST_L1T_003</td>\n",
       "      <td>https://mw1.google.com/ges/dd/images/ASTER_sample.png</td>\n",
       "    </tr>\n",
       "  </tbody>\n",
       "</table>\n",
       "</div>"
      ],
      "text/plain": [
       "                  id                              provider  \\\n",
       "0           AAFC/ACI      Agriculture and Agri-Food Canada   \n",
       "1   AHN/AHN2_05M_INT                                   AHN   \n",
       "2   AHN/AHN2_05M_NON                                   AHN   \n",
       "3   AHN/AHN2_05M_RUW                                   AHN   \n",
       "4  ASTER/AST_L1T_003  NASA LP DAAC at the USGS EROS Center   \n",
       "\n",
       "                                        title start_date   end_date  \\\n",
       "0           Canada AAFC Annual Crop Inventory 2009-01-01 2021-03-08   \n",
       "1      AHN Netherlands 0.5m DEM, Interpolated 2012-01-01 2012-01-01   \n",
       "2  AHN Netherlands 0.5m DEM, Non-Interpolated 2012-01-01 2012-01-01   \n",
       "3       AHN Netherlands 0.5m DEM, Raw Samples 2012-01-01 2012-01-01   \n",
       "4                          ASTER L1T Radiance 2000-03-04 2021-03-08   \n",
       "\n",
       "   startyear  endyear              type  \\\n",
       "0       2009     2021  image_collection   \n",
       "1       2012     2012             image   \n",
       "2       2012     2012             image   \n",
       "3       2012     2012             image   \n",
       "4       2000     2021  image_collection   \n",
       "\n",
       "                                                                                     tags  \\\n",
       "0                                                         [aafc, canada, crop, landcover]   \n",
       "1                                  [ahn, dem, elevation, geophysical, lidar, netherlands]   \n",
       "2                                  [ahn, dem, elevation, geophysical, lidar, netherlands]   \n",
       "3                                  [ahn, dem, elevation, geophysical, lidar, netherlands]   \n",
       "4  [aster, eos, imagery, nasa, nir, radiance, swir, terra, thermal, tir, toa, usgs, vnir]   \n",
       "\n",
       "                                                                       asset_url  \\\n",
       "0           https://developers.google.com/earth-engine/datasets/catalog/AAFC_ACI   \n",
       "1   https://developers.google.com/earth-engine/datasets/catalog/AHN_AHN2_05M_INT   \n",
       "2   https://developers.google.com/earth-engine/datasets/catalog/AHN_AHN2_05M_NON   \n",
       "3   https://developers.google.com/earth-engine/datasets/catalog/AHN_AHN2_05M_RUW   \n",
       "4  https://developers.google.com/earth-engine/datasets/catalog/ASTER_AST_L1T_003   \n",
       "\n",
       "                                                      thumbnail_url  \n",
       "0          https://mw1.google.com/ges/dd/images/AAFC_ACI_sample.png  \n",
       "1  https://mw1.google.com/ges/dd/images/AHN_AHN2_05M_INT_sample.png  \n",
       "2  https://mw1.google.com/ges/dd/images/AHN_AHN2_05M_NON_sample.png  \n",
       "3  https://mw1.google.com/ges/dd/images/AHN_AHN2_05M_RUW_sample.png  \n",
       "4             https://mw1.google.com/ges/dd/images/ASTER_sample.png  "
      ]
     },
     "execution_count": 4,
     "metadata": {},
     "output_type": "execute_result"
    }
   ],
   "source": [
    "cat.datasets.head()"
   ]
  },
  {
   "cell_type": "markdown",
   "id": "cultural-filename",
   "metadata": {},
   "source": [
    "The *Catalog* object also has search functionality. Search functions return a new catalog of datasets that matched the search parameters."
   ]
  },
  {
   "cell_type": "code",
   "execution_count": 5,
   "id": "applied-liverpool",
   "metadata": {},
   "outputs": [],
   "source": [
    "results = cat.search_tags(\"ndvi\")"
   ]
  },
  {
   "cell_type": "code",
   "execution_count": 6,
   "id": "respective-underwear",
   "metadata": {},
   "outputs": [
    {
     "name": "stdout",
     "output_type": "stream",
     "text": [
      "154                       Landsat 8 Collection 1 Tier 1 32-Day NDVI Composite\n",
      "162                        Landsat 8 Collection 1 Tier 1 8-Day NDVI Composite\n",
      "171                       Landsat 8 Collection 1 Tier 1 Annual NDVI Composite\n",
      "187                       Landsat 7 Collection 1 Tier 1 32-Day NDVI Composite\n",
      "195                        Landsat 7 Collection 1 Tier 1 8-Day NDVI Composite\n",
      "204                       Landsat 7 Collection 1 Tier 1 Annual NDVI Composite\n",
      "236                    Landsat 4 TM Collection 1 Tier 1 32-Day NDVI Composite\n",
      "244                     Landsat 4 TM Collection 1 Tier 1 8-Day NDVI Composite\n",
      "253                    Landsat 4 TM Collection 1 Tier 1 Annual NDVI Composite\n",
      "267                    Landsat 5 TM Collection 1 Tier 1 32-Day NDVI Composite\n",
      "275                     Landsat 5 TM Collection 1 Tier 1 8-Day NDVI Composite\n",
      "284                    Landsat 5 TM Collection 1 Tier 1 Annual NDVI Composite\n",
      "315                   MOD13A1.006 Terra Vegetation Indices 16-Day Global 500m\n",
      "316                    MOD13A2.006 Terra Vegetation Indices 16-Day Global 1km\n",
      "317                   MOD13Q1.006 Terra Vegetation Indices 16-Day Global 250m\n",
      "334                    MYD13A1.006 Aqua Vegetation Indices 16-Day Global 500m\n",
      "335                     MYD13A2.006 Aqua Vegetation Indices 16-Day Global 1km\n",
      "336                    MYD13Q1.006 Aqua Vegetation Indices 16-Day Global 250m\n",
      "348                                                MODIS Combined 16-Day NDVI\n",
      "353                                                    MODIS Terra Daily NDVI\n",
      "359                                                     MODIS Aqua Daily NDVI\n",
      "362                     AG100: ASTER Global Emissivity Dataset 100-meter V003\n",
      "364                            GIMMS NDVI from AVHRR Sensors (3rd Generation)\n",
      "393    NOAA CDR AVHRR NDVI: Normalized Difference Vegetation Index, Version 5\n",
      "423                             VNP13A1: VIIRS Vegetation Indices 16-Day 500m\n"
     ]
    }
   ],
   "source": [
    "print(results)"
   ]
  },
  {
   "cell_type": "code",
   "execution_count": 7,
   "id": "hindu-portal",
   "metadata": {},
   "outputs": [],
   "source": [
    "results = results.search_by_year(1995)"
   ]
  },
  {
   "cell_type": "code",
   "execution_count": 8,
   "id": "loose-devices",
   "metadata": {},
   "outputs": [
    {
     "name": "stdout",
     "output_type": "stream",
     "text": [
      "267                    Landsat 5 TM Collection 1 Tier 1 32-Day NDVI Composite\n",
      "275                     Landsat 5 TM Collection 1 Tier 1 8-Day NDVI Composite\n",
      "284                    Landsat 5 TM Collection 1 Tier 1 Annual NDVI Composite\n",
      "364                            GIMMS NDVI from AVHRR Sensors (3rd Generation)\n",
      "393    NOAA CDR AVHRR NDVI: Normalized Difference Vegetation Index, Version 5\n"
     ]
    }
   ],
   "source": [
    "print(results)"
   ]
  },
  {
   "cell_type": "code",
   "execution_count": 9,
   "id": "valuable-tackle",
   "metadata": {},
   "outputs": [],
   "source": [
    "results = results.search_title(\"landsat\")"
   ]
  },
  {
   "cell_type": "code",
   "execution_count": 10,
   "id": "colored-accuracy",
   "metadata": {},
   "outputs": [
    {
     "data": {
      "text/html": [
       "<div>\n",
       "<style scoped>\n",
       "    .dataframe tbody tr th:only-of-type {\n",
       "        vertical-align: middle;\n",
       "    }\n",
       "\n",
       "    .dataframe tbody tr th {\n",
       "        vertical-align: top;\n",
       "    }\n",
       "\n",
       "    .dataframe thead th {\n",
       "        text-align: right;\n",
       "    }\n",
       "</style>\n",
       "<table border=\"1\" class=\"dataframe\">\n",
       "  <thead>\n",
       "    <tr style=\"text-align: right;\">\n",
       "      <th></th>\n",
       "      <th>id</th>\n",
       "      <th>provider</th>\n",
       "      <th>title</th>\n",
       "      <th>start_date</th>\n",
       "      <th>end_date</th>\n",
       "      <th>startyear</th>\n",
       "      <th>endyear</th>\n",
       "      <th>type</th>\n",
       "      <th>tags</th>\n",
       "      <th>asset_url</th>\n",
       "      <th>thumbnail_url</th>\n",
       "    </tr>\n",
       "  </thead>\n",
       "  <tbody>\n",
       "    <tr>\n",
       "      <th>267</th>\n",
       "      <td>LANDSAT/LT05/C01/T1_32DAY_NDVI</td>\n",
       "      <td>Google</td>\n",
       "      <td>Landsat 5 TM Collection 1 Tier 1 32-Day NDVI Composite</td>\n",
       "      <td>1984-01-01</td>\n",
       "      <td>2012-05-05</td>\n",
       "      <td>1984</td>\n",
       "      <td>2012</td>\n",
       "      <td>image_collection</td>\n",
       "      <td>[ndvi]</td>\n",
       "      <td>https://developers.google.com/earth-engine/datasets/catalog/LANDSAT_LT05_C01_T1_32DAY_NDVI</td>\n",
       "      <td>https://mw1.google.com/ges/dd/images/NDVI_sample.png</td>\n",
       "    </tr>\n",
       "    <tr>\n",
       "      <th>275</th>\n",
       "      <td>LANDSAT/LT05/C01/T1_8DAY_NDVI</td>\n",
       "      <td>Google</td>\n",
       "      <td>Landsat 5 TM Collection 1 Tier 1 8-Day NDVI Composite</td>\n",
       "      <td>1984-01-01</td>\n",
       "      <td>2012-05-05</td>\n",
       "      <td>1984</td>\n",
       "      <td>2012</td>\n",
       "      <td>image_collection</td>\n",
       "      <td>[ndvi]</td>\n",
       "      <td>https://developers.google.com/earth-engine/datasets/catalog/LANDSAT_LT05_C01_T1_8DAY_NDVI</td>\n",
       "      <td>https://mw1.google.com/ges/dd/images/NDVI_sample.png</td>\n",
       "    </tr>\n",
       "    <tr>\n",
       "      <th>284</th>\n",
       "      <td>LANDSAT/LT05/C01/T1_ANNUAL_NDVI</td>\n",
       "      <td>Google</td>\n",
       "      <td>Landsat 5 TM Collection 1 Tier 1 Annual NDVI Composite</td>\n",
       "      <td>1984-01-01</td>\n",
       "      <td>2012-05-05</td>\n",
       "      <td>1984</td>\n",
       "      <td>2012</td>\n",
       "      <td>image_collection</td>\n",
       "      <td>[ndvi]</td>\n",
       "      <td>https://developers.google.com/earth-engine/datasets/catalog/LANDSAT_LT05_C01_T1_ANNUAL_NDVI</td>\n",
       "      <td>https://mw1.google.com/ges/dd/images/NDVI_sample.png</td>\n",
       "    </tr>\n",
       "  </tbody>\n",
       "</table>\n",
       "</div>"
      ],
      "text/plain": [
       "                                  id provider  \\\n",
       "267   LANDSAT/LT05/C01/T1_32DAY_NDVI   Google   \n",
       "275    LANDSAT/LT05/C01/T1_8DAY_NDVI   Google   \n",
       "284  LANDSAT/LT05/C01/T1_ANNUAL_NDVI   Google   \n",
       "\n",
       "                                                      title start_date  \\\n",
       "267  Landsat 5 TM Collection 1 Tier 1 32-Day NDVI Composite 1984-01-01   \n",
       "275   Landsat 5 TM Collection 1 Tier 1 8-Day NDVI Composite 1984-01-01   \n",
       "284  Landsat 5 TM Collection 1 Tier 1 Annual NDVI Composite 1984-01-01   \n",
       "\n",
       "      end_date  startyear  endyear              type    tags  \\\n",
       "267 2012-05-05       1984     2012  image_collection  [ndvi]   \n",
       "275 2012-05-05       1984     2012  image_collection  [ndvi]   \n",
       "284 2012-05-05       1984     2012  image_collection  [ndvi]   \n",
       "\n",
       "                                                                                       asset_url  \\\n",
       "267   https://developers.google.com/earth-engine/datasets/catalog/LANDSAT_LT05_C01_T1_32DAY_NDVI   \n",
       "275    https://developers.google.com/earth-engine/datasets/catalog/LANDSAT_LT05_C01_T1_8DAY_NDVI   \n",
       "284  https://developers.google.com/earth-engine/datasets/catalog/LANDSAT_LT05_C01_T1_ANNUAL_NDVI   \n",
       "\n",
       "                                            thumbnail_url  \n",
       "267  https://mw1.google.com/ges/dd/images/NDVI_sample.png  \n",
       "275  https://mw1.google.com/ges/dd/images/NDVI_sample.png  \n",
       "284  https://mw1.google.com/ges/dd/images/NDVI_sample.png  "
      ]
     },
     "execution_count": 10,
     "metadata": {},
     "output_type": "execute_result"
    }
   ],
   "source": [
    "results.datasets"
   ]
  }
 ],
 "metadata": {
  "kernelspec": {
   "display_name": "Earth Engine",
   "language": "python",
   "name": "ee"
  },
  "language_info": {
   "codemirror_mode": {
    "name": "ipython",
    "version": 3
   },
   "file_extension": ".py",
   "mimetype": "text/x-python",
   "name": "python",
   "nbconvert_exporter": "python",
   "pygments_lexer": "ipython3",
   "version": "3.8.8"
  }
 },
 "nbformat": 4,
 "nbformat_minor": 5
}
