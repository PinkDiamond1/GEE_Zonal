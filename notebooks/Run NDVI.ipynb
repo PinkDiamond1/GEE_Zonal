{
 "cells": [
  {
   "cell_type": "code",
   "execution_count": 1,
   "id": "falling-senegal",
   "metadata": {},
   "outputs": [],
   "source": [
    "import sys\n",
    "sys.path.append('../src')"
   ]
  },
  {
   "cell_type": "code",
   "execution_count": 2,
   "id": "threatened-relative",
   "metadata": {},
   "outputs": [],
   "source": [
    "from gee_tools import Catalog, ZonalStats\n",
    "import ee"
   ]
  },
  {
   "cell_type": "code",
   "execution_count": 3,
   "id": "derived-guatemala",
   "metadata": {},
   "outputs": [],
   "source": [
    "%load_ext autoreload\n",
    "%autoreload 2"
   ]
  },
  {
   "cell_type": "code",
   "execution_count": 4,
   "id": "sublime-copyright",
   "metadata": {},
   "outputs": [],
   "source": [
    "ee.Initialize()"
   ]
  },
  {
   "cell_type": "code",
   "execution_count": 5,
   "id": "precise-newfoundland",
   "metadata": {},
   "outputs": [],
   "source": [
    "cat = Catalog()"
   ]
  },
  {
   "cell_type": "code",
   "execution_count": 6,
   "id": "unauthorized-fleece",
   "metadata": {},
   "outputs": [],
   "source": [
    "results = cat.search_tags(\"ndvi\")\n",
    "results = results.search_title(\"landsat\")\n",
    "results = results.search_title(\"8-day\")"
   ]
  },
  {
   "cell_type": "code",
   "execution_count": 7,
   "id": "provincial-lighting",
   "metadata": {},
   "outputs": [
    {
     "data": {
      "text/html": [
       "<div>\n",
       "<style scoped>\n",
       "    .dataframe tbody tr th:only-of-type {\n",
       "        vertical-align: middle;\n",
       "    }\n",
       "\n",
       "    .dataframe tbody tr th {\n",
       "        vertical-align: top;\n",
       "    }\n",
       "\n",
       "    .dataframe thead th {\n",
       "        text-align: right;\n",
       "    }\n",
       "</style>\n",
       "<table border=\"1\" class=\"dataframe\">\n",
       "  <thead>\n",
       "    <tr style=\"text-align: right;\">\n",
       "      <th></th>\n",
       "      <th>id</th>\n",
       "      <th>provider</th>\n",
       "      <th>title</th>\n",
       "      <th>start_date</th>\n",
       "      <th>end_date</th>\n",
       "      <th>startyear</th>\n",
       "      <th>endyear</th>\n",
       "      <th>type</th>\n",
       "      <th>tags</th>\n",
       "      <th>asset_url</th>\n",
       "      <th>thumbnail_url</th>\n",
       "    </tr>\n",
       "  </thead>\n",
       "  <tbody>\n",
       "    <tr>\n",
       "      <th>162</th>\n",
       "      <td>LANDSAT/LC08/C01/T1_8DAY_NDVI</td>\n",
       "      <td>Google</td>\n",
       "      <td>Landsat 8 Collection 1 Tier 1 8-Day NDVI Composite</td>\n",
       "      <td>2013-04-11</td>\n",
       "      <td>2021-03-09</td>\n",
       "      <td>2013</td>\n",
       "      <td>2021</td>\n",
       "      <td>image_collection</td>\n",
       "      <td>[ndvi]</td>\n",
       "      <td>https://developers.google.com/earth-engine/datasets/catalog/LANDSAT_LC08_C01_T1_8DAY_NDVI</td>\n",
       "      <td>https://mw1.google.com/ges/dd/images/NDVI_sample.png</td>\n",
       "    </tr>\n",
       "    <tr>\n",
       "      <th>195</th>\n",
       "      <td>LANDSAT/LE07/C01/T1_8DAY_NDVI</td>\n",
       "      <td>Google</td>\n",
       "      <td>Landsat 7 Collection 1 Tier 1 8-Day NDVI Composite</td>\n",
       "      <td>1999-01-01</td>\n",
       "      <td>2021-03-09</td>\n",
       "      <td>1999</td>\n",
       "      <td>2021</td>\n",
       "      <td>image_collection</td>\n",
       "      <td>[ndvi]</td>\n",
       "      <td>https://developers.google.com/earth-engine/datasets/catalog/LANDSAT_LE07_C01_T1_8DAY_NDVI</td>\n",
       "      <td>https://mw1.google.com/ges/dd/images/NDVI_sample.png</td>\n",
       "    </tr>\n",
       "    <tr>\n",
       "      <th>244</th>\n",
       "      <td>LANDSAT/LT04/C01/T1_8DAY_NDVI</td>\n",
       "      <td>Google</td>\n",
       "      <td>Landsat 4 TM Collection 1 Tier 1 8-Day NDVI Composite</td>\n",
       "      <td>1982-08-22</td>\n",
       "      <td>1993-12-14</td>\n",
       "      <td>1982</td>\n",
       "      <td>1993</td>\n",
       "      <td>image_collection</td>\n",
       "      <td>[ndvi]</td>\n",
       "      <td>https://developers.google.com/earth-engine/datasets/catalog/LANDSAT_LT04_C01_T1_8DAY_NDVI</td>\n",
       "      <td>https://mw1.google.com/ges/dd/images/NDVI_sample.png</td>\n",
       "    </tr>\n",
       "    <tr>\n",
       "      <th>275</th>\n",
       "      <td>LANDSAT/LT05/C01/T1_8DAY_NDVI</td>\n",
       "      <td>Google</td>\n",
       "      <td>Landsat 5 TM Collection 1 Tier 1 8-Day NDVI Composite</td>\n",
       "      <td>1984-01-01</td>\n",
       "      <td>2012-05-05</td>\n",
       "      <td>1984</td>\n",
       "      <td>2012</td>\n",
       "      <td>image_collection</td>\n",
       "      <td>[ndvi]</td>\n",
       "      <td>https://developers.google.com/earth-engine/datasets/catalog/LANDSAT_LT05_C01_T1_8DAY_NDVI</td>\n",
       "      <td>https://mw1.google.com/ges/dd/images/NDVI_sample.png</td>\n",
       "    </tr>\n",
       "  </tbody>\n",
       "</table>\n",
       "</div>"
      ],
      "text/plain": [
       "                                id provider  \\\n",
       "162  LANDSAT/LC08/C01/T1_8DAY_NDVI   Google   \n",
       "195  LANDSAT/LE07/C01/T1_8DAY_NDVI   Google   \n",
       "244  LANDSAT/LT04/C01/T1_8DAY_NDVI   Google   \n",
       "275  LANDSAT/LT05/C01/T1_8DAY_NDVI   Google   \n",
       "\n",
       "                                                     title start_date  \\\n",
       "162     Landsat 8 Collection 1 Tier 1 8-Day NDVI Composite 2013-04-11   \n",
       "195     Landsat 7 Collection 1 Tier 1 8-Day NDVI Composite 1999-01-01   \n",
       "244  Landsat 4 TM Collection 1 Tier 1 8-Day NDVI Composite 1982-08-22   \n",
       "275  Landsat 5 TM Collection 1 Tier 1 8-Day NDVI Composite 1984-01-01   \n",
       "\n",
       "      end_date  startyear  endyear              type    tags  \\\n",
       "162 2021-03-09       2013     2021  image_collection  [ndvi]   \n",
       "195 2021-03-09       1999     2021  image_collection  [ndvi]   \n",
       "244 1993-12-14       1982     1993  image_collection  [ndvi]   \n",
       "275 2012-05-05       1984     2012  image_collection  [ndvi]   \n",
       "\n",
       "                                                                                     asset_url  \\\n",
       "162  https://developers.google.com/earth-engine/datasets/catalog/LANDSAT_LC08_C01_T1_8DAY_NDVI   \n",
       "195  https://developers.google.com/earth-engine/datasets/catalog/LANDSAT_LE07_C01_T1_8DAY_NDVI   \n",
       "244  https://developers.google.com/earth-engine/datasets/catalog/LANDSAT_LT04_C01_T1_8DAY_NDVI   \n",
       "275  https://developers.google.com/earth-engine/datasets/catalog/LANDSAT_LT05_C01_T1_8DAY_NDVI   \n",
       "\n",
       "                                            thumbnail_url  \n",
       "162  https://mw1.google.com/ges/dd/images/NDVI_sample.png  \n",
       "195  https://mw1.google.com/ges/dd/images/NDVI_sample.png  \n",
       "244  https://mw1.google.com/ges/dd/images/NDVI_sample.png  \n",
       "275  https://mw1.google.com/ges/dd/images/NDVI_sample.png  "
      ]
     },
     "execution_count": 7,
     "metadata": {},
     "output_type": "execute_result"
    }
   ],
   "source": [
    "results.datasets"
   ]
  },
  {
   "cell_type": "code",
   "execution_count": 8,
   "id": "structural-course",
   "metadata": {},
   "outputs": [],
   "source": [
    "AOIs = ee.FeatureCollection('users/afche18/Admin0_Polys_1000m')"
   ]
  },
  {
   "cell_type": "code",
   "execution_count": 11,
   "id": "skilled-angola",
   "metadata": {},
   "outputs": [],
   "source": [
    "zs = ZonalStats(\n",
    "    collection_id='LANDSAT/LC08/C01/T1_8DAY_NDVI', \n",
    "    target_features=AOIs, \n",
    "    statistic_type=\"all\", \n",
    "    output_name=\"landsat8_ndvi\",\n",
    "    scale=30,\n",
    "    min_threshold=0.1,\n",
    "    water_mask=True,\n",
    "    freq='annual',\n",
    "    temporal_stat='mean'\n",
    ")"
   ]
  },
  {
   "cell_type": "code",
   "execution_count": 12,
   "id": "proper-woman",
   "metadata": {},
   "outputs": [],
   "source": [
    "zs.runZonalStats()"
   ]
  },
  {
   "cell_type": "code",
   "execution_count": 14,
   "id": "rotary-laser",
   "metadata": {},
   "outputs": [
    {
     "data": {
      "text/plain": [
       "{'state': 'READY',\n",
       " 'description': 'Zonal statistics all of T1_8DAY_NDVI',\n",
       " 'creation_timestamp_ms': 1617073106254,\n",
       " 'update_timestamp_ms': 1617073106254,\n",
       " 'start_timestamp_ms': 0,\n",
       " 'task_type': 'EXPORT_FEATURES',\n",
       " 'id': 'QWUG4H5J6DGIHDOPMC6FZRZH',\n",
       " 'name': 'projects/earthengine-legacy/operations/QWUG4H5J6DGIHDOPMC6FZRZH'}"
      ]
     },
     "execution_count": 14,
     "metadata": {},
     "output_type": "execute_result"
    }
   ],
   "source": [
    "zs.task.status()"
   ]
  },
  {
   "cell_type": "code",
   "execution_count": 15,
   "id": "limiting-mailing",
   "metadata": {},
   "outputs": [],
   "source": [
    "# zs.task.status()['state']"
   ]
  }
 ],
 "metadata": {
  "kernelspec": {
   "display_name": "Earth Engine",
   "language": "python",
   "name": "ee"
  },
  "language_info": {
   "codemirror_mode": {
    "name": "ipython",
    "version": 3
   },
   "file_extension": ".py",
   "mimetype": "text/x-python",
   "name": "python",
   "nbconvert_exporter": "python",
   "pygments_lexer": "ipython3",
   "version": "3.8.8"
  },
  "toc": {
   "base_numbering": 1,
   "nav_menu": {},
   "number_sections": true,
   "sideBar": true,
   "skip_h1_title": false,
   "title_cell": "Table of Contents",
   "title_sidebar": "Contents",
   "toc_cell": false,
   "toc_position": {},
   "toc_section_display": true,
   "toc_window_display": false
  },
  "varInspector": {
   "cols": {
    "lenName": 16,
    "lenType": 16,
    "lenVar": 40
   },
   "kernels_config": {
    "python": {
     "delete_cmd_postfix": "",
     "delete_cmd_prefix": "del ",
     "library": "var_list.py",
     "varRefreshCmd": "print(var_dic_list())"
    },
    "r": {
     "delete_cmd_postfix": ") ",
     "delete_cmd_prefix": "rm(",
     "library": "var_list.r",
     "varRefreshCmd": "cat(var_dic_list()) "
    }
   },
   "types_to_exclude": [
    "module",
    "function",
    "builtin_function_or_method",
    "instance",
    "_Feature"
   ],
   "window_display": false
  }
 },
 "nbformat": 4,
 "nbformat_minor": 5
}
